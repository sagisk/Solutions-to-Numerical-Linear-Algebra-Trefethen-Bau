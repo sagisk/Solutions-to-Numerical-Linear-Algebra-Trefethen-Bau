{
 "cells": [
  {
   "cell_type": "markdown",
   "metadata": {},
   "source": [
    "# Numerical Linear Algebra\n",
    "## Treften, Bau"
   ]
  },
  {
   "cell_type": "markdown",
   "metadata": {},
   "source": [
    "Main Resources:\n",
    "http://mypages.iit.edu/~lix/teach/math577/f10/hwsol5.pdf"
   ]
  },
  {
   "cell_type": "markdown",
   "metadata": {},
   "source": [
    "http://mypages.iit.edu/~lix/teach/math577/f10/hwsol3.pdf\n",
    "http://mypages.iit.edu/~lix/teach/math577/f10/hwsol4.pdf\n"
   ]
  },
  {
   "cell_type": "markdown",
   "metadata": {},
   "source": [
    "https://www.math.tamu.edu/~zhangqing/Math660/HW5.pdf"
   ]
  },
  {
   "cell_type": "code",
   "execution_count": 1,
   "metadata": {},
   "outputs": [],
   "source": [
    "%matplotlib inline\n",
    "\n",
    "import numpy as np\n",
    "import matplotlib.pyplot as plt"
   ]
  },
  {
   "cell_type": "markdown",
   "metadata": {},
   "source": [
    "# Chapter 1"
   ]
  },
  {
   "cell_type": "markdown",
   "metadata": {},
   "source": [
    "### Exercise 1"
   ]
  },
  {
   "cell_type": "markdown",
   "metadata": {},
   "source": [
    "Let $B = \\begin{pmatrix}\n",
    "b_{11} & b_{12} & b_{13} & b_{14}\\\\\n",
    "b_{21} & b_{22} & b_{23} & b_{24}\\\\\n",
    "b_{31} & b_{32} & b_{33} & b_{34}\\\\\n",
    "b_{41} & b_{42} & b_{43} & b_{44}\\\\\n",
    "\\end{pmatrix}$\n",
    "\n",
    "a)\n",
    "1) $\\begin{pmatrix}\n",
    "2b_{11} & b_{12} & b_{13} & b_{14}\\\\\n",
    "2b_{21} & b_{22} & b_{23} & b_{24}\\\\\n",
    "2b_{31} & b_{32} & b_{33} & b_{34}\\\\\n",
    "2b_{41} & b_{42} & b_{43} & b_{44}\\\\\n",
    "\\end{pmatrix} = \\begin{pmatrix}\n",
    "b_{11} & b_{12} & b_{13} & b_{14}\\\\\n",
    "b_{21} & b_{22} & b_{23} & b_{24}\\\\\n",
    "b_{31} & b_{32} & b_{33} & b_{34}\\\\\n",
    "b_{41} & b_{42} & b_{43} & b_{44}\\\\\n",
    "\\end{pmatrix}\\begin{pmatrix}\n",
    "2 & 0 & 0 & 0\\\\\n",
    "0 & 1 & 0 & 0\\\\\n",
    "0 & 0 & 1 & 0\\\\\n",
    "0 & 0 & 0 & 1\\\\\n",
    "\\end{pmatrix} = \\begin{pmatrix}\n",
    "b_{11} & b_{12} & b_{13} & b_{14}\\\\\n",
    "b_{21} & b_{22} & b_{23} & b_{24}\\\\\n",
    "b_{31} & b_{32} & b_{33} & b_{34}\\\\\n",
    "b_{41} & b_{42} & b_{43} & b_{44}\\\\\n",
    "\\end{pmatrix}(\\begin{pmatrix}\n",
    "1 & 0 & 0 & 0\\\\\n",
    "0 & 0 & 0 & 0\\\\\n",
    "0 & 0 & 0 & 0\\\\\n",
    "0 & 0 & 0 & 0\\\\\n",
    "\\end{pmatrix} + \\begin{pmatrix}\n",
    "1 & 0 & 0 & 0\\\\\n",
    "0 & 0 & 0 & 0\\\\\n",
    "0 & 0 & 0 & 0\\\\\n",
    "0 & 0 & 0 & 0\\\\\n",
    "\\end{pmatrix} + \\begin{pmatrix}\n",
    "0 & 0 & 0 & 0\\\\\n",
    "0 & 1/2 & 0 & 0\\\\\n",
    "0 & 0 & 0 & 0\\\\\n",
    "0 & 0 & 0 & 0\\\\\n",
    "\\end{pmatrix} + \\begin{pmatrix}\n",
    "0 & 0 & 0 & 0\\\\\n",
    "0 & 1/2 & 0 & 0\\\\\n",
    "0 & 0 & 0 & 0\\\\\n",
    "0 & 0 & 0 & 0\\\\\n",
    "\\end{pmatrix} + \\begin{pmatrix}\n",
    "0 & 0 & 0 & 0\\\\\n",
    "0 & 0 & 0 & 0\\\\\n",
    "0 & 0 & 1/2 & 0\\\\\n",
    "0 & 0 & 0 & 0\\\\\n",
    "\\end{pmatrix}+\\begin{pmatrix}\n",
    "0 & 0 & 0 & 0\\\\\n",
    "0 & 0 & 0 & 0\\\\\n",
    "0 & 0 & 1/2 & 0\\\\\n",
    "0 & 0 & 0 & 0\\\\\n",
    "\\end{pmatrix}+\\begin{pmatrix}\n",
    "0 & 0 & 0 & 0\\\\\n",
    "0 & 0 & 0 & 0\\\\\n",
    "0 & 0 & 0 & 0\\\\\n",
    "0 & 0 & 0 & 1/2\\\\\n",
    "\\end{pmatrix}+\\begin{pmatrix}\n",
    "0 & 0 & 0 & 0\\\\\n",
    "0 & 0 & 0 & 0\\\\\n",
    "0 & 0 & 0 & 0\\\\\n",
    "0 & 0 & 0 & 1/2\\\\\n",
    "\\end{pmatrix})$\n",
    "\n",
    "2) $\\begin{pmatrix}\n",
    "b_{11} & b_{12} & b_{13} & b_{14}\\\\\n",
    "b_{21} & b_{22} & b_{23} & b_{24}\\\\\n",
    "b_{31} & b_{32} & b_{33} & b_{34}\\\\\n",
    "b_{41} & b_{42} & b_{43} & b_{44}\\\\\n",
    "\\end{pmatrix} = \\begin{pmatrix}\n",
    "0 & 0 & 0 & 1\\\\\n",
    "0 & 1 & 0 & 0\\\\\n",
    "0 & 0 & 1 & 0\\\\\n",
    "1 & 0 & 0 & 0\\\\\n",
    "\\end{pmatrix}\n",
    "= (\\begin{pmatrix}\n",
    "1/2 & 0 & 0 & 0\\\\\n",
    "0 & 0 & 0 & 0\\\\\n",
    "0 & 0 & 0 & 0\\\\\n",
    "0 & 0 & 0 & 0\\\\\n",
    "\\end{pmatrix} + \\begin{pmatrix}\n",
    "1/2 & 0 & 0 & 0\\\\\n",
    "0 & 0 & 0 & 0\\\\\n",
    "0 & 0 & 0 & 0\\\\\n",
    "0 & 0 & 0 & 0\\\\\n",
    "\\end{pmatrix} + \\begin{pmatrix}\n",
    "0 & 0 & 0 & 0\\\\\n",
    "0 & 1/2 & 0 & 0\\\\\n",
    "0 & 0 & 0 & 0\\\\\n",
    "0 & 0 & 0 & 0\\\\\n",
    "\\end{pmatrix} + \\begin{pmatrix}\n",
    "0 & 0 & 0 & 0\\\\\n",
    "0 & 1/2 & 0 & 0\\\\\n",
    "0 & 0 & 0 & 0\\\\\n",
    "0 & 0 & 0 & 0\\\\\n",
    "\\end{pmatrix} + \\begin{pmatrix}\n",
    "0 & 0 & 0 & 0\\\\\n",
    "0 & 0 & 0 & 0\\\\\n",
    "0 & 0 & 1/4 & 0\\\\\n",
    "0 & 0 & 0 & 0\\\\\n",
    "\\end{pmatrix}+\\begin{pmatrix}\n",
    "0 & 0 & 0 & 0\\\\\n",
    "0 & 0 & 0 & 0\\\\\n",
    "0 & 0 & 1/4 & 0\\\\\n",
    "0 & 0 & 0 & 0\\\\\n",
    "\\end{pmatrix}+\\begin{pmatrix}\n",
    "0 & 0 & 0 & 0\\\\\n",
    "0 & 0 & 0 & 0\\\\\n",
    "0 & 0 & 0 & 0\\\\\n",
    "0 & 0 & 0 & 1/2\\\\\n",
    "\\end{pmatrix}+\\begin{pmatrix}\n",
    "0 & 0 & 0 & 0\\\\\n",
    "0 & 0 & 0 & 0\\\\\n",
    "0 & 0 & 0 & 0\\\\\n",
    "0 & 0 & 0 & 1/2\\\\\n",
    "\\end{pmatrix})\\begin{pmatrix}\n",
    "b_{11} & b_{12} & b_{13} & b_{14}\\\\\n",
    "b_{21} & b_{22} & b_{23} & b_{24}\\\\\n",
    "b_{31} & b_{32} & b_{33} & b_{34}\\\\\n",
    "b_{41} & b_{42} & b_{43} & b_{44}\\\\\n",
    "\\end{pmatrix}$\n",
    "\n",
    "3) $\\begin{pmatrix}\n",
    "b_{11} + b_{31} & b_{12} + b_{32} & b_{13} + b_{33} & b_{14} + b_{34}\\\\\n",
    "b_{21} & b_{22} & b_{23} & b_{24}\\\\\n",
    "b_{31} & b_{32} & b_{33} & b_{34}\\\\\n",
    "b_{41} & b_{42} & b_{43} & b_{44}\\\\\n",
    "\\end{pmatrix} = \\begin{pmatrix}\n",
    "1 & 0 & 1 & 0\\\\\n",
    "0 & 1 & 0 & 0\\\\\n",
    "0 & 0 & 1 & 0\\\\\n",
    "0 & 0 & 0 & 1\\\\\n",
    "\\end{pmatrix}\\begin{pmatrix}\n",
    "b_{11} & b_{12} & b_{13} & b_{14}\\\\\n",
    "b_{21} & b_{22} & b_{23} & b_{24}\\\\\n",
    "b_{31} & b_{32} & b_{33} & b_{34}\\\\\n",
    "b_{41} & b_{42} & b_{43} & b_{44}\\\\\n",
    "\\end{pmatrix} = (\\begin{pmatrix}\n",
    "1 & 0 & 0 & 0\\\\\n",
    "0 & 0 & 0 & 0\\\\\n",
    "0 & 0 & 0 & 0\\\\\n",
    "0 & 0 & 0 & 0\\\\\n",
    "\\end{pmatrix} + \\begin{pmatrix}\n",
    "0 & 0 & 1 & 0\\\\\n",
    "0 & 0 & 0 & 0\\\\\n",
    "0 & 0 & 0 & 0\\\\\n",
    "0 & 0 & 0 & 0\\\\\n",
    "\\end{pmatrix} + \\begin{pmatrix}\n",
    "0 & 0 & 0 & 0\\\\\n",
    "0 & 1/2 & 0 & 0\\\\\n",
    "0 & 0 & 0 & 0\\\\\n",
    "0 & 0 & 0 & 0\\\\\n",
    "\\end{pmatrix} + \\begin{pmatrix}\n",
    "0 & 0 & 0 & 0\\\\\n",
    "0 & 1/2 & 0 & 0\\\\\n",
    "0 & 0 & 0 & 0\\\\\n",
    "0 & 0 & 0 & 0\\\\\n",
    "\\end{pmatrix} + \\begin{pmatrix}\n",
    "0 & 0 & 0 & 0\\\\\n",
    "0 & 0 & 0 & 0\\\\\n",
    "0 & 0 & 1/2 & 0\\\\\n",
    "0 & 0 & 0 & 0\\\\\n",
    "\\end{pmatrix}+\\begin{pmatrix}\n",
    "0 & 0 & 0 & 0\\\\\n",
    "0 & 0 & 0 & 0\\\\\n",
    "0 & 0 & 1/2 & 0\\\\\n",
    "0 & 0 & 0 & 0\\\\\n",
    "\\end{pmatrix}+\\begin{pmatrix}\n",
    "0 & 0 & 0 & 0\\\\\n",
    "0 & 0 & 0 & 0\\\\\n",
    "0 & 0 & 0 & 0\\\\\n",
    "0 & 0 & 0 & 1/2\\\\\n",
    "\\end{pmatrix}+\\begin{pmatrix}\n",
    "0 & 0 & 0 & 0\\\\\n",
    "0 & 0 & 0 & 0\\\\\n",
    "0 & 0 & 0 & 0\\\\\n",
    "0 & 0 & 0 & 1/2\\\\\n",
    "\\end{pmatrix})\\begin{pmatrix}\n",
    "b_{11} & b_{12} & b_{13} & b_{14}\\\\\n",
    "b_{21} & b_{22} & b_{23} & b_{24}\\\\\n",
    "b_{31} & b_{32} & b_{33} & b_{34}\\\\\n",
    "b_{41} & b_{42} & b_{43} & b_{44}\\\\\n",
    "\\end{pmatrix}$\n",
    "\n",
    "4) $\\begin{pmatrix}\n",
    "b_{14} & b_{12} & b_{13} & b_{11}\\\\\n",
    "b_{24} & b_{22} & b_{23} & b_{21}\\\\\n",
    "b_{34} & b_{32} & b_{33} & b_{31}\\\\\n",
    "b_{44} & b_{42} & b_{43} & b_{34}\\\\\n",
    "\\end{pmatrix} = \\begin{pmatrix}\n",
    "b_{11} & b_{12} & b_{13} & b_{14}\\\\\n",
    "b_{21} & b_{22} & b_{23} & b_{24}\\\\\n",
    "b_{31} & b_{32} & b_{33} & b_{34}\\\\\n",
    "b_{41} & b_{42} & b_{43} & b_{44}\\\\\n",
    "\\end{pmatrix}\\begin{pmatrix}\n",
    "0 & 0 & 0 & 1\\\\\n",
    "0 & 1 & 0 & 0\\\\\n",
    "0 & 0 & 1 & 0\\\\\n",
    "1 & 0 & 0 & 0\\\\\n",
    "\\end{pmatrix} = \\begin{pmatrix}\n",
    "b_{11} & b_{12} & b_{13} & b_{14}\\\\\n",
    "b_{21} & b_{22} & b_{23} & b_{24}\\\\\n",
    "b_{31} & b_{32} & b_{33} & b_{34}\\\\\n",
    "b_{41} & b_{42} & b_{43} & b_{44}\\\\\n",
    "\\end{pmatrix}(\\begin{pmatrix}\n",
    "0 & 0 & 0 & 1/2\\\\\n",
    "0 & 0 & 0 & 0\\\\\n",
    "0 & 0 & 0 & 0\\\\\n",
    "0 & 0 & 0 & 0\\\\\n",
    "\\end{pmatrix} + \\begin{pmatrix}\n",
    "0 & 0 & 0 & 1/2\\\\\n",
    "0 & 0 & 0 & 0\\\\\n",
    "0 & 0 & 0 & 0\\\\\n",
    "0 & 0 & 0 & 0\\\\\n",
    "\\end{pmatrix} + \\begin{pmatrix}\n",
    "0 & 0 & 0 & 0\\\\\n",
    "0 & 1/2 & 0 & 0\\\\\n",
    "0 & 0 & 0 & 0\\\\\n",
    "0 & 0 & 0 & 0\\\\\n",
    "\\end{pmatrix} + \\begin{pmatrix}\n",
    "0 & 0 & 0 & 0\\\\\n",
    "0 & 1/2 & 0 & 0\\\\\n",
    "0 & 0 & 0 & 0\\\\\n",
    "0 & 0 & 0 & 0\\\\\n",
    "\\end{pmatrix} + \\begin{pmatrix}\n",
    "0 & 0 & 0 & 0\\\\\n",
    "0 & 0 & 0 & 0\\\\\n",
    "0 & 0 & 1/2 & 0\\\\\n",
    "0 & 0 & 0 & 0\\\\\n",
    "\\end{pmatrix}+\\begin{pmatrix}\n",
    "0 & 0 & 0 & 0\\\\\n",
    "0 & 0 & 0 & 0\\\\\n",
    "0 & 0 & 1/2 & 0\\\\\n",
    "0 & 0 & 0 & 0\\\\\n",
    "\\end{pmatrix}+\\begin{pmatrix}\n",
    "0 & 0 & 0 & 0\\\\\n",
    "0 & 0 & 0 & 0\\\\\n",
    "0 & 0 & 0 & 0\\\\\n",
    "1/2 & 0 & 0 & 0\\\\\n",
    "\\end{pmatrix}+\\begin{pmatrix}\n",
    "0 & 0 & 0 & 0\\\\\n",
    "0 & 0 & 0 & 0\\\\\n",
    "0 & 0 & 0 & 0\\\\\n",
    "1/2 & 0 & 0 & 0\\\\\n",
    "\\end{pmatrix})$\n",
    "\n",
    "5) $\\begin{pmatrix}\n",
    "b_{11} - b_{21} & b_{12} - b_{22} & b_{13} - b_{23} & b_{14} - b_{24}\\\\\n",
    "b_{21} & b_{22} & b_{23} & b_{24}\\\\\n",
    "b_{31} - b_{21} & b_{32} - b_{22} & b_{33} - b_{23} & b_{34} - b_{24}\\\\\n",
    "b_{41} - b_{21} & b_{42} - b_{22} & b_{43} - b_{23} & b_{44} - b_{24}\\\\\n",
    "\\end{pmatrix} = \\begin{pmatrix}\n",
    "1 & -1 & 0 & 0\\\\\n",
    "0 & 1 & 0 & 0\\\\\n",
    "0 & -1 & 1 & 0\\\\\n",
    "0 & -1 & 0 & 1\\\\\n",
    "\\end{pmatrix}\\begin{pmatrix}\n",
    "b_{11} & b_{12} & b_{13} & b_{14}\\\\\n",
    "b_{21} & b_{22} & b_{23} & b_{24}\\\\\n",
    "b_{31} & b_{32} & b_{33} & b_{34}\\\\\n",
    "b_{41} & b_{42} & b_{43} & b_{44}\\\\\n",
    "\\end{pmatrix} = (\\begin{pmatrix}\n",
    "1 & 0 & 0 & 0\\\\\n",
    "0 & 0 & 0 & 0\\\\\n",
    "0 & 0 & 0 & 0\\\\\n",
    "0 & 0 & 0 & 0\\\\\n",
    "\\end{pmatrix} + \\begin{pmatrix}\n",
    "0 & -1 & 0 & 0\\\\\n",
    "0 & 0 & 0 & 0\\\\\n",
    "0 & 0 & 0 & 0\\\\\n",
    "0 & 0 & 0 & 0\\\\\n",
    "\\end{pmatrix} + \\begin{pmatrix}\n",
    "0 & 0 & 0 & 0\\\\\n",
    "0 & 1/2 & 0 & 0\\\\\n",
    "0 & 0 & 0 & 0\\\\\n",
    "0 & 0 & 0 & 0\\\\\n",
    "\\end{pmatrix} + \\begin{pmatrix}\n",
    "0 & 0 & 0 & 0\\\\\n",
    "0 & 1/2 & 0 & 0\\\\\n",
    "0 & 0 & 0 & 0\\\\\n",
    "0 & 0 & 0 & 0\\\\\n",
    "\\end{pmatrix} + \\begin{pmatrix}\n",
    "0 & 0 & 0 & 0\\\\\n",
    "0 & 0 & 0 & 0\\\\\n",
    "0 & -1 & 0 & 0\\\\\n",
    "0 & 0 & 0 & 0\\\\\n",
    "\\end{pmatrix}+\\begin{pmatrix}\n",
    "0 & 0 & 0 & 0\\\\\n",
    "0 & 0 & 0 & 0\\\\\n",
    "0 & 0 & 1 & 0\\\\\n",
    "0 & 0 & 0 & 0\\\\\n",
    "\\end{pmatrix}+\\begin{pmatrix}\n",
    "0 & 0 & 0 & 0\\\\\n",
    "0 & 0 & 0 & 0\\\\\n",
    "0 & 0 & 0 & 0\\\\\n",
    "0 & -1 & 0 & 0\\\\\n",
    "\\end{pmatrix}+\\begin{pmatrix}\n",
    "0 & 0 & 0 & 0\\\\\n",
    "0 & 0 & 0 & 0\\\\\n",
    "0 & 0 & 0 & 0\\\\\n",
    "0 & 0 & 0 & 1\\\\\n",
    "\\end{pmatrix})\\begin{pmatrix}\n",
    "b_{11} & b_{12} & b_{13} & b_{14}\\\\\n",
    "b_{21} & b_{22} & b_{23} & b_{24}\\\\\n",
    "b_{31} & b_{32} & b_{33} & b_{34}\\\\\n",
    "b_{41} & b_{42} & b_{43} & b_{44}\\\\\n",
    "\\end{pmatrix}$\n",
    "\n",
    "6) $\\begin{pmatrix}\n",
    "b_{11} & b_{12} & b_{13} & b_{14}\\\\\n",
    "b_{21} & b_{22} & b_{23} & b_{24}\\\\\n",
    "b_{31} & b_{32} & b_{33} & b_{34}\\\\\n",
    "b_{41} & b_{42} & b_{43} & b_{44}\\\\\n",
    "\\end{pmatrix} = \\begin{pmatrix}\n",
    "b_{11} & b_{12} & b_{13} & b_{13}\\\\\n",
    "b_{21} & b_{22} & b_{23} & b_{23}\\\\\n",
    "b_{31} & b_{32} & b_{33} & b_{33}\\\\\n",
    "b_{41} & b_{42} & b_{43} & b_{43}\\\\\n",
    "\\end{pmatrix}\\begin{pmatrix}\n",
    "1 & 0 & 0 & 0\\\\\n",
    "0 & 1 & 0 & 0\\\\\n",
    "0 & 0 & 1 & 0\\\\\n",
    "0 & 0 & 1 & 0\\\\\n",
    "\\end{pmatrix} = \\begin{pmatrix}\n",
    "b_{11} & b_{12} & b_{13} & b_{14}\\\\\n",
    "b_{21} & b_{22} & b_{23} & b_{24}\\\\\n",
    "b_{31} & b_{32} & b_{33} & b_{34}\\\\\n",
    "b_{41} & b_{42} & b_{43} & b_{44}\\\\\n",
    "\\end{pmatrix}(\\begin{pmatrix}\n",
    "1/2 & 0 & 0 & 0\\\\\n",
    "0 & 0 & 0 & 0\\\\\n",
    "0 & 0 & 0 & 0\\\\\n",
    "0 & 0 & 0 & 0\\\\\n",
    "\\end{pmatrix} + \\begin{pmatrix}\n",
    "1/2 & 0 & 0 & 0\\\\\n",
    "0 & 0 & 0 & 0\\\\\n",
    "0 & 0 & 0 & 0\\\\\n",
    "0 & 0 & 0 & 0\\\\\n",
    "\\end{pmatrix} + \\begin{pmatrix}\n",
    "0 & 0 & 0 & 0\\\\\n",
    "0 & 1/2 & 0 & 0\\\\\n",
    "0 & 0 & 0 & 0\\\\\n",
    "0 & 0 & 0 & 0\\\\\n",
    "\\end{pmatrix} + \\begin{pmatrix}\n",
    "0 & 0 & 0 & 0\\\\\n",
    "0 & 1/2 & 0 & 0\\\\\n",
    "0 & 0 & 0 & 0\\\\\n",
    "0 & 0 & 0 & 0\\\\\n",
    "\\end{pmatrix} + \\begin{pmatrix}\n",
    "0 & 0 & 0 & 0\\\\\n",
    "0 & 0 & 0 & 0\\\\\n",
    "0 & 0 & 1/2 & 0\\\\\n",
    "0 & 0 & 0 & 0\\\\\n",
    "\\end{pmatrix}+\\begin{pmatrix}\n",
    "0 & 0 & 0 & 0\\\\\n",
    "0 & 0 & 0 & 0\\\\\n",
    "0 & 0 & 1/2 & 0\\\\\n",
    "0 & 0 & 0 & 0\\\\\n",
    "\\end{pmatrix}+\\begin{pmatrix}\n",
    "0 & 0 & 0 & 0\\\\\n",
    "0 & 0 & 0 & 0\\\\\n",
    "0 & 0 & 1/2 & 0\\\\\n",
    "0 & 0 & 0 & 0\\\\\n",
    "\\end{pmatrix}+\\begin{pmatrix}\n",
    "0 & 0 & 0 & 0\\\\\n",
    "0 & 0 & 0 & 0\\\\\n",
    "0 & 0 & 1/2 & 0\\\\\n",
    "0 & 0 & 0 & 0\\\\\n",
    "\\end{pmatrix})$\n",
    "\n",
    "7) $\\begin{pmatrix}\n",
    "b_{11} & b_{12} & b_{13} & b_{14}\\\\\n",
    "b_{21} & b_{22} & b_{23} & b_{24}\\\\\n",
    "b_{31} & b_{32} & b_{33} & b_{34}\\\\\n",
    "b_{41} & b_{42} & b_{43} & b_{44}\\\\\n",
    "\\end{pmatrix} = \\begin{pmatrix}\n",
    "b_{11} & b_{12} & b_{13} & b_{13}\\\\\n",
    "b_{21} & b_{22} & b_{23} & b_{23}\\\\\n",
    "b_{31} & b_{32} & b_{33} & b_{33}\\\\\n",
    "b_{41} & b_{42} & b_{43} & b_{43}\\\\\n",
    "\\end{pmatrix}\\begin{pmatrix}\n",
    "0 & 0 & 0\\\\\n",
    "1 & 0 & 0\\\\\n",
    "0 & 1 & 0\\\\\n",
    "0 & 0 & 1\\\\\n",
    "\\end{pmatrix} = \\begin{pmatrix}\n",
    "b_{11} & b_{12} & b_{13} & b_{14}\\\\\n",
    "b_{21} & b_{22} & b_{23} & b_{24}\\\\\n",
    "b_{31} & b_{32} & b_{33} & b_{34}\\\\\n",
    "b_{41} & b_{42} & b_{43} & b_{44}\\\\\n",
    "\\end{pmatrix}(\\begin{pmatrix}\n",
    "0 & 0 & 0\\\\\n",
    "0 & 0 & 0\\\\\n",
    "0 & 0 & 0\\\\\n",
    "0 & 0 & 0\\\\\n",
    "\\end{pmatrix} + \\begin{pmatrix}\n",
    "0 & 0 & 0\\\\\n",
    "1/2 & 0 & 0\\\\\n",
    "0 & 0 & 0\\\\\n",
    "0 & 0 & 0\\\\\n",
    "\\end{pmatrix} + \\begin{pmatrix}\n",
    "0 & 0 & 0\\\\\n",
    "1/2 & 0 & 0\\\\\n",
    "0 & 0 & 0\\\\\n",
    "0 & 0 & 0\\\\\n",
    "\\end{pmatrix} + \\begin{pmatrix}\n",
    "0 & 0 & 0\\\\\n",
    "0 & 0 & 0\\\\\n",
    "0 & 1/2 & 0\\\\\n",
    "0 & 0 & 0\\\\\n",
    "\\end{pmatrix} + \\begin{pmatrix}\n",
    "0 & 0 & 0\\\\\n",
    "0 & 0 & 0\\\\\n",
    "0 & 1/2 & 0\\\\\n",
    "0 & 0 & 0\\\\\n",
    "\\end{pmatrix}+\\begin{pmatrix}\n",
    "0 & 0 & 0\\\\\n",
    "0 & 0 & 0\\\\\n",
    "0 & 0 & 0\\\\\n",
    "0 & 0 & 1/2\\\\\n",
    "\\end{pmatrix}+\\begin{pmatrix}\n",
    "0 & 0 & 0\\\\\n",
    "0 & 0 & 0\\\\\n",
    "0 & 0 & 0\\\\\n",
    "0 & 0 & 1/2\\\\\n",
    "\\end{pmatrix})$\n",
    "\n",
    "Note in $7$ we have only $7$ multiplications.\n",
    "\n",
    "b) 1) $A = I, C = \\text{The same matrix as in (a)}$. The remaining cases are similar."
   ]
  },
  {
   "cell_type": "markdown",
   "metadata": {},
   "source": [
    "### Exercise 2"
   ]
  },
  {
   "cell_type": "markdown",
   "metadata": {},
   "source": [
    "https://www.google.com/search?q=Suppose+masses+m,,+m2,+ma,+m4+are+located+at+positions+xl,+s2,+x3,+24+in+a+line+and+connected+by+springs+with+spring+constants+kl,,+b3,+kM+whose+natural+lengths+of+extension+are+el,,+e2,,+t,,.&sxsrf=ALeKk03sp5_TwqH8E3uTg_ZPM9WlRIggUA:1618939397598&tbm=isch&source=iu&ictx=1&fir=RNofBs4nRJDQaM%252C65M_7ha0SgaJzM%252C_&vet=1&usg=AI4_-kTjIT-YGE_QkAyPWxblzWaclSHp8g&sa=X&ved=2ahUKEwjU_tKdq43wAhVG1hoKHQhMDAYQ9QF6BAgOEAE&biw=767&bih=744#imgrc=L1vv93la42dbkM"
   ]
  },
  {
   "cell_type": "markdown",
   "metadata": {},
   "source": [
    "### Exercise 3"
   ]
  },
  {
   "cell_type": "markdown",
   "metadata": {},
   "source": [
    "To show that $R$ is non-singular note that the columns of an upper triangular matrix are linearly independent. To see this just make their linear combination equal to zero and proceed by back-substitution.  \n",
    "Let's show that $R^{-1}$ is an upper trianuglar. Suppose, there exists some $R^{-1}_{kj}$ such that $R^{-1}_{kj} \\not = 0$ when $k > j$. Then by the $1.8$ $e_j = \\sum_{i=1}^{m} R^{-1}_{ij}R_{i} = R^{-1}_{1j}R_{1} + ... R^{-1}_{kj}R_{k} + ... + R^{-1}_{mj}R_{m}$. However, since $k > j$ we would have that the element after $j$-th in the vector formed by the above sum is not equal to $0$. Hence, a contradiction."
   ]
  },
  {
   "cell_type": "markdown",
   "metadata": {},
   "source": [
    "### Exercise 4"
   ]
  },
  {
   "cell_type": "markdown",
   "metadata": {},
   "source": [
    "a) Let $f_i$ be the $i$-th column of $A$. Then we have that $Ac = d$. Since the equation holds for any $d$ then $range(A) = C^{m}$. Hence, by the theorem $1.3, A$ is non-singular.  \n",
    "b) The linear mapping from $d$ to $c$ in a matrix form is $Ad = c$. So, the $i,j$ entry of $A^{-1}$ is $f_j(i)$."
   ]
  },
  {
   "cell_type": "markdown",
   "metadata": {},
   "source": [
    "# Chapter 2"
   ]
  },
  {
   "cell_type": "markdown",
   "metadata": {},
   "source": [
    "### Exercise 1"
   ]
  },
  {
   "cell_type": "markdown",
   "metadata": {},
   "source": [
    "If $A$ is upper/lower traingular then its inverse is also upper/lower traingular. If $A$ is unitary then the inverse of $A$ is the conjuage transpose of $A$. Hence, $A$ is diagonal."
   ]
  },
  {
   "cell_type": "markdown",
   "metadata": {},
   "source": [
    "### Exercise 2"
   ]
  },
  {
   "cell_type": "markdown",
   "metadata": {},
   "source": [
    "a) $(x_1+x_2)^2 = x_1^Tx_1+x_2^Tx_2 + 2x_1^Tx_2 = x_1^Tx_1+x_2^Tx_2$ due to orthogonality.  \n",
    "b) Base case: $n = 2$ is proved.  \n",
    "Iductive assumption: Let $\\|\\sum_{i=1}^{n-1}x_i\\|^2 = \\sum_{i=1}^{n-1}\\|x_i\\|^2$. Then, $\\|\\sum_{i=1}^{n-1}x_i + x_{n}\\|^2 = \\|y + x_n\\|^2 = y^Ty + x_n^Tx_n + 2y^Tx_n = \\sum_{i=1}^{n-1}\\|x_i\\|^2 + x_n^Tx_n + 0 = \\sum_{i=1}^{n}\\|x_i\\|^2$ where $y = \\sum_{i=1}^{n-1}x_i$."
   ]
  },
  {
   "cell_type": "markdown",
   "metadata": {},
   "source": [
    "### Exercise 3"
   ]
  },
  {
   "cell_type": "markdown",
   "metadata": {},
   "source": [
    "a) Let $A^{*} = A$.\n",
    "$<Ax, x> = <\\lambda x, x> = \\lambda<x,x> = <x, A^{*}x> = <x, \\lambda x> = \\bar{\\lambda}<x,x>$. Hence, $\\lambda = \\bar{\\lambda}$.  \n",
    "b) $\\lambda<x, y> = <\\lambda x, y> = <Ax, y> = <x, A^{*}y> = <x, Ay> = <x, \\mu y> = \\bar{mu}<x,y>$. Since, $\\lambda \\not= \\mu$ then $<x, y> = 0$."
   ]
  },
  {
   "cell_type": "markdown",
   "metadata": {},
   "source": [
    "### Exercise 4"
   ]
  },
  {
   "cell_type": "markdown",
   "metadata": {},
   "source": [
    "$|\\lambda|<x,x> = <\\lambda x, \\lambda x> = <Ax, Ax> = <x, A^{*}Ax> = <x,x>$. Hence, $|\\lambda| = 1$"
   ]
  },
  {
   "cell_type": "markdown",
   "metadata": {},
   "source": [
    "### Exercise 5"
   ]
  },
  {
   "cell_type": "markdown",
   "metadata": {},
   "source": [
    "a) $\\lambda<x, x> = <Sx, x> = <x, S^{*}x> = <x, -Sx> = <x, -\\lambda x> = -\\bar{\\lambda}<x,x>$. Hence, $\\lambda = -\\bar{\\lambda}$ i.e. $a + ic = -(a-ic)$ hence, $a = 0$.  \n",
    "b) \n",
    "c) $Q^{*}Q = (I+S)^{*}(I-S)^{-1*}$"
   ]
  },
  {
   "cell_type": "markdown",
   "metadata": {},
   "source": [
    "### Exercise 6"
   ]
  },
  {
   "cell_type": "markdown",
   "metadata": {},
   "source": [
    "$(I+uv^{*})(I + \\alpha uv^{*}) = I + \\alpha uv^{*} + uv^{*} + vu^{*}\\alpha uv^{*} = I + \\alpha uv^{*} + uv^{*} + \\alpha vu^{*}uv^{*} = I + uv^{*} + \\alpha(uv^{*} + vu^{*}uv^{*})$ let $\\alpha = -1/(1+vu^{*})$. Then $(I+uv^{*})(I + \\alpha uv^{*}) = I + uv^{*} - \\frac{(1+vu^{*})uv^{*}}{1+uv^{*}} = I$."
   ]
  },
  {
   "cell_type": "markdown",
   "metadata": {},
   "source": [
    "### Exercise 7"
   ]
  },
  {
   "cell_type": "markdown",
   "metadata": {},
   "source": [
    "$A^T = cA^{-1}$\n",
    "\n",
    "Base case: k = 0. Then $H_0$ is a Hadamard matrix since $H^{-1} = [1] = 1*H^{T}$.  \n",
    "Inductive step: Assume $H_k = \\begin{pmatrix}H_{k-1} & H_{k-1}\\\\\n",
    "H_{k-1} & -H_{k-1}\\end{pmatrix}$ is a Hadamard matrix. So, $H_{k}^{-1} = nH_{k}^T = n\\begin{pmatrix}H_{k-1}^T & H_{k-1}^T\\\\\n",
    "H_{k-1}^T & -H_{k-1}^T\\end{pmatrix}$.\n",
    "\n",
    "$\\begin{pmatrix}\n",
    "H_{k} & H_{k}\\\\\n",
    "H_{k} & -H_{k}\n",
    "\\end{pmatrix}\\begin{pmatrix}\n",
    "nH_{k}^T & nH_{k}^T\\\\\n",
    "nH_{k}^T & -nH_{k}^T\n",
    "\\end{pmatrix} = H_{k+1}nH_{k+1}^T = I$. Hence, it is a Hadamard matrix."
   ]
  },
  {
   "cell_type": "markdown",
   "metadata": {},
   "source": [
    "# Chapter 3"
   ]
  },
  {
   "cell_type": "markdown",
   "metadata": {},
   "source": [
    "### Exercise 1"
   ]
  },
  {
   "cell_type": "markdown",
   "metadata": {},
   "source": [
    "a) $\\|x\\|_W = \\|Wx\\| \\ge 0$  \n",
    "b) $\\|x+y\\|_W = \\|Wx + Wy\\| \\le \\|Wx\\| + \\|Wy\\| = \\|x\\|_W + \\|y\\|_W$  \n",
    "c) $\\|cx\\|_W = \\|Wcx\\| = \\|cWx\\| = |c|\\|Wx\\| = |c|\\|x\\|_W$\n",
    "\n",
    "In all above proves we used the definition of norm $(3.1)$ and the defintion of $3.3$ where $\\|\\|$ is an aribtrary norm."
   ]
  },
  {
   "cell_type": "markdown",
   "metadata": {},
   "source": [
    "### Exercise 2"
   ]
  },
  {
   "cell_type": "markdown",
   "metadata": {},
   "source": [
    "$|\\lambda| \\le \\sup_{\\|x\\| = 1} \\|Ax\\|$"
   ]
  },
  {
   "cell_type": "markdown",
   "metadata": {},
   "source": [
    "### Exercise 5"
   ]
  },
  {
   "cell_type": "markdown",
   "metadata": {},
   "source": [
    "$\\|E\\|_F = \\sqrt{tr(E^{*}E)} = \\sqrt{tr(vu^{*}uv^{*})} = \\sqrt{(u^{*}u)tr(vv^{*})} = \\sqrt{\\|u\\|_2^2 \\|v\\|_2^2} = \\|u\\|_2\\|v\\|_2 = \\|u\\|_F\\|v\\|_F$."
   ]
  },
  {
   "cell_type": "markdown",
   "metadata": {},
   "source": [
    "### Exercise 6"
   ]
  },
  {
   "cell_type": "markdown",
   "metadata": {},
   "source": [
    "a) $\\|x\\|' = \\sup_{\\|y\\| = 1}|y^{*}x|$  \n",
    "1) $\\|x\\|' \\ge 0$ since we take a supremum of absoulute values.  \n",
    "2) $\\|x + z\\|' = \\sup_{\\|y\\| = 1}|y^{*}(x+z)| = \\sup_{\\|y\\| = 1}|y^{*}x+y^{*}z| \\le \\sup_{\\|y\\| = 1}|y^{*}x| + \\sup_{\\|y\\| = 1}|y^{*}x|y^{*}z|$.  \n",
    "3) $\\|cx\\|' = \\sup_{\\|y\\| = 1}|cy^{*}x| = c\\sup_{\\|y\\| = 1}|y^{*}x| = c\\|x\\|'$.  "
   ]
  },
  {
   "cell_type": "markdown",
   "metadata": {},
   "source": [
    "# Chapter 4"
   ]
  },
  {
   "cell_type": "markdown",
   "metadata": {},
   "source": [
    "### Exercise 1"
   ]
  },
  {
   "cell_type": "markdown",
   "metadata": {},
   "source": [
    "a) $A = \\begin{pmatrix}\n",
    "3 & 0\\\\\n",
    "0 & -2\n",
    "\\end{pmatrix}$\n",
    "\n",
    "$A^{T}A = \\begin{pmatrix}\n",
    "9 & 0\\\\\n",
    "0 & 4\n",
    "\\end{pmatrix}$. The eigenvalues of $A^TA$ are $9, 4$ with the corresponding eigenvectors $(1,0), (0,1)$.\n",
    "\n",
    "$AA^{T}$ is identical to $A^TA$. So, \n",
    "$U = \\begin{pmatrix}\n",
    "1 & 0\\\\\n",
    "0 & 1\n",
    "\\end{pmatrix}$\n",
    "$\\Lambda = \\begin{pmatrix}\n",
    "3 & 0\\\\\n",
    "0 & 2\n",
    "\\end{pmatrix}$\n",
    "$V = \\begin{pmatrix}\n",
    "1 & 0\\\\\n",
    "0 & -1\n",
    "\\end{pmatrix}$\n"
   ]
  },
  {
   "cell_type": "code",
   "execution_count": 10,
   "metadata": {
    "scrolled": true
   },
   "outputs": [
    {
     "data": {
      "text/plain": [
       "(array([[1., 0.],\n",
       "        [0., 1.]]),\n",
       " array([3., 2.]),\n",
       " array([[ 1.,  0.],\n",
       "        [-0., -1.]]))"
      ]
     },
     "execution_count": 10,
     "metadata": {},
     "output_type": "execute_result"
    }
   ],
   "source": [
    "A = np.array([[3,0],\n",
    "              [0,-2]])\n",
    "np.linalg.svd(A)"
   ]
  },
  {
   "cell_type": "markdown",
   "metadata": {},
   "source": [
    "### Exercise 2"
   ]
  },
  {
   "cell_type": "markdown",
   "metadata": {},
   "source": [
    "To get the ninety degree rotation of a matrix on a paper we should take its transpose and then exchange the columns."
   ]
  },
  {
   "cell_type": "markdown",
   "metadata": {},
   "source": [
    "### Exercise 4"
   ]
  },
  {
   "cell_type": "markdown",
   "metadata": {},
   "source": [
    "If matrices are unitarily equivalent then they are similar. Hence, the eigenvalues of $A,B$ are the same. $A = USV^T, Q^*AQ = Q^{*}USV^{T}Q = B$. Hence, the singualr values are the same."
   ]
  },
  {
   "cell_type": "markdown",
   "metadata": {},
   "source": [
    "# Chapter 5"
   ]
  },
  {
   "cell_type": "markdown",
   "metadata": {},
   "source": [
    "### Exercise 1"
   ]
  },
  {
   "cell_type": "markdown",
   "metadata": {},
   "source": [
    "$A = \\begin{pmatrix}\n",
    "1 & 2\\\\\n",
    "0 & 2\n",
    "\\end{pmatrix}$\n",
    "\n",
    "$AA^T = \\begin{pmatrix}\n",
    "1 & 2\\\\\n",
    "0 & 2\n",
    "\\end{pmatrix}\\begin{pmatrix}\n",
    "1 & 0\\\\\n",
    "2 & 2\n",
    "\\end{pmatrix} = \\begin{pmatrix}\n",
    "5 & 4\\\\\n",
    "4 & 4\n",
    "\\end{pmatrix}, \\det(AA^T - \\lambda I) = (5-\\lambda)(4-\\lambda) = 16$\n",
    "\n",
    "$A^TA = \\begin{pmatrix}\n",
    "1 & 0\\\\\n",
    "2 & 2\n",
    "\\end{pmatrix}\\begin{pmatrix}\n",
    "1 & 2\\\\\n",
    "0 & 2\n",
    "\\end{pmatrix} = \\begin{pmatrix}\n",
    "1 & 2\\\\\n",
    "2 & 8\n",
    "\\end{pmatrix}, \\det(AA^T - \\lambda I) = (1-\\lambda)(8-\\lambda) = 4$\n",
    "\n",
    "In both cases $\\lambda_1 = \\frac{-\\sqrt{65}+9}{2}, \\lambda_2 = \\frac{\\sqrt{65}+9}{2}$. The square roots of them are the singular values of $A$."
   ]
  },
  {
   "cell_type": "code",
   "execution_count": 27,
   "metadata": {
    "scrolled": true
   },
   "outputs": [
    {
     "data": {
      "text/plain": [
       "(array([[ 0.74967818, -0.66180256],\n",
       "        [ 0.66180256,  0.74967818]]),\n",
       " array([2.92080963, 0.68474165]),\n",
       " array([[ 0.25666794,  0.96649965],\n",
       "        [-0.96649965,  0.25666794]]))"
      ]
     },
     "execution_count": 27,
     "metadata": {},
     "output_type": "execute_result"
    }
   ],
   "source": [
    "A = np.array([[1, 2],\n",
    "              [0, 2]])\n",
    "np.linalg.svd(A)"
   ]
  },
  {
   "cell_type": "markdown",
   "metadata": {},
   "source": [
    "### Exercise 2"
   ]
  },
  {
   "cell_type": "markdown",
   "metadata": {},
   "source": [
    "Let $A = USV^T$ be some matrix that is of a full rank. Then it can be written as a sequence of matrices like $US_kV^T, US_{k-1}V^T, ..., US_{1}V^T$ where $\\|S_k\\|_2 \\to \\|S\\|_2$."
   ]
  },
  {
   "cell_type": "markdown",
   "metadata": {},
   "source": [
    "### Exercise 3"
   ]
  },
  {
   "cell_type": "code",
   "execution_count": 34,
   "metadata": {},
   "outputs": [
    {
     "data": {
      "text/plain": [
       "(array([[-0.70710678, -0.70710678],\n",
       "        [-0.70710678,  0.70710678]]),\n",
       " array([14.14213562,  7.07106781]),\n",
       " array([[ 0.6, -0.8],\n",
       "        [-0.8, -0.6]]))"
      ]
     },
     "execution_count": 34,
     "metadata": {},
     "output_type": "execute_result"
    }
   ],
   "source": [
    "A = np.array([[-2, 11],\n",
    "              [-10, 5]])\n",
    "np.linalg.svd(A)"
   ]
  },
  {
   "cell_type": "code",
   "execution_count": 38,
   "metadata": {},
   "outputs": [
    {
     "data": {
      "text/plain": [
       "(array([200.,  50.]),\n",
       " array([[ 0.70710678, -0.70710678],\n",
       "        [ 0.70710678,  0.70710678]]))"
      ]
     },
     "execution_count": 38,
     "metadata": {},
     "output_type": "execute_result"
    }
   ],
   "source": [
    "np.linalg.eig(np.dot(A,A.T))"
   ]
  },
  {
   "cell_type": "code",
   "execution_count": 37,
   "metadata": {
    "scrolled": true
   },
   "outputs": [
    {
     "data": {
      "text/plain": [
       "(array([ 50., 200.]),\n",
       " array([[-0.8,  0.6],\n",
       "        [-0.6, -0.8]]))"
      ]
     },
     "execution_count": 37,
     "metadata": {},
     "output_type": "execute_result"
    }
   ],
   "source": [
    "np.linalg.eig(np.dot(A.T,A))"
   ]
  },
  {
   "cell_type": "markdown",
   "metadata": {},
   "source": [
    "$A = \\begin{pmatrix}\n",
    "-2 & 11\\\\\n",
    "-10 & 5\n",
    "\\end{pmatrix}$\n",
    "\n",
    "$AA^T = \\begin{pmatrix}\n",
    "-2 & 11\\\\\n",
    "-10 & 5\n",
    "\\end{pmatrix}\\begin{pmatrix}\n",
    "-2 & -10\\\\\n",
    "11 & 5\n",
    "\\end{pmatrix} = \\begin{pmatrix}\n",
    "125 & 75\\\\\n",
    "75 & 125\n",
    "\\end{pmatrix}, \\det(AA^T - \\lambda I) = (125-\\lambda)^2 - 75^2 = 0$\n",
    "\n",
    "$A^TA = \\begin{pmatrix}\n",
    "-2 & -10\\\\\n",
    "11 & 5\n",
    "\\end{pmatrix}\n",
    "\\begin{pmatrix}\n",
    "-2 & 11\\\\\n",
    "-10 & 5\n",
    "\\end{pmatrix} = \\begin{pmatrix}\n",
    "104 & -72\\\\\n",
    "-72 & 146\n",
    "\\end{pmatrix}, \\det(AA^T - \\lambda I) = (104 - \\lambda)(146 - \\lambda) - 72^2 = 0$\n",
    "\n",
    "The eigenvalues are $50, 200$."
   ]
  },
  {
   "cell_type": "markdown",
   "metadata": {},
   "source": [
    "### Exercise 4"
   ]
  },
  {
   "cell_type": "markdown",
   "metadata": {},
   "source": [
    "$A = USV^{*}, A^{*} = VSU^{*}, Av_i = u_i\\sigma_i, A^{*}u_i = v_i\\sigma_i$.  \n",
    "\n",
    "$\\begin{pmatrix}\n",
    "0 & A^{*}\\\\\n",
    "A & 0\n",
    "\\end{pmatrix}\\begin{pmatrix}\n",
    "v_i\\\\\n",
    "u_i\n",
    "\\end{pmatrix} = \\begin{pmatrix}\n",
    "A^{*}u_i\\\\\n",
    "Av_i\n",
    "\\end{pmatrix} = \\begin{pmatrix}\n",
    "\\sigma_iv_i\\\\\n",
    "\\sigma_iu_i\n",
    "\\end{pmatrix} = \\sigma_i\\begin{pmatrix}\n",
    "v_i\\\\\n",
    "u_i\n",
    "\\end{pmatrix}$. Hence, "
   ]
  },
  {
   "cell_type": "markdown",
   "metadata": {},
   "source": [
    "# Chapter 6"
   ]
  },
  {
   "cell_type": "markdown",
   "metadata": {},
   "source": [
    "### Exercise 1"
   ]
  },
  {
   "cell_type": "markdown",
   "metadata": {},
   "source": [
    "$(I - 2P)(I - 2P^*) = I - 2P^{*} - 2P + 4PP^{*} = I - 2P - 2P + 4P^2 = I - 4P + 4P = I$.  \n",
    "Here we used the theorem $6.1$"
   ]
  },
  {
   "cell_type": "markdown",
   "metadata": {},
   "source": [
    "### Exercise 2"
   ]
  },
  {
   "cell_type": "markdown",
   "metadata": {},
   "source": [
    "$Fx = F\\begin{pmatrix}\n",
    "x_1\\\\\n",
    "x_2\\\\\n",
    ".\\\\\n",
    ".\\\\\n",
    ".\\\\\n",
    "x_m\n",
    "\\end{pmatrix} = \\begin{pmatrix}\n",
    "x_m\\\\\n",
    "x_{m-1}\\\\\n",
    ".\\\\\n",
    ".\\\\\n",
    ".\\\\\n",
    "x_1\n",
    "\\end{pmatrix}$. Hence, $F = \\begin{pmatrix}\n",
    "0 & ... & 1\\\\\n",
    "... & ... & ...\\\\\n",
    "1 & ... & 0\n",
    "\\end{pmatrix}$. So, $F^2 = F, F^{*} = F$.\n",
    "\n",
    "$EEx = E((x+Fx)/2) = E(((x+Fx)/2 + F(x + Fx)/2)/2) = E(\\frac{x + 2Fx + F^2x}{4}) = E(\\frac{2x + 2Fx}{4}) = Ex$ for any $x \\in R^{m}$. Hence, $E$ is a projector."
   ]
  },
  {
   "cell_type": "markdown",
   "metadata": {},
   "source": [
    "### Exercise 3"
   ]
  },
  {
   "cell_type": "markdown",
   "metadata": {},
   "source": [
    "If $A^*A$ is non-singular. Then the only $x \\in C^m$ such that $A^*Ax = 0$ is $x = 0$. Note that if $x \\in null(A)$ then $x \\in null(A^*A)$. Hence, $null(A) \\subset null(A^*A) = \\{0\\}$. Therefore, $null(A) = 0$ and $A$ is non-singular.\n",
    "\n",
    "If $A$ has a full rank then $A = USV^*$ and $S$ has a full rank. Then $A^*A = VSU^*USV^* = VS^2V^*$. Hence, $A^*A$ is also non-singular since $S^2$ is also full rank."
   ]
  },
  {
   "cell_type": "markdown",
   "metadata": {},
   "source": [
    "### Exercise 4"
   ]
  },
  {
   "cell_type": "markdown",
   "metadata": {},
   "source": [
    "Here we will use $6.13$.\n",
    "a) $P = A(A^*A)^{-1}A^* = \\begin{pmatrix}\n",
    "1/2 & 0 & 1/2\\\\\n",
    "0 & 1 & 0\\\\\n",
    "1/2 & 0 & 1/2\n",
    "\\end{pmatrix}$\n",
    "\n",
    "We could get the same result if we noticed that the columns of $A$ are orthogonal and normalize the first column by dividing it to $\\sqrt{2}$. Then, $P = QQ^{*}$ where\n",
    "$Q = \\begin{pmatrix}\n",
    "1 & 0\\\\\n",
    "0 & 1\\\\\n",
    "1 & 0\n",
    "\\end{pmatrix}$\n",
    "\n",
    "b) $u_1 = (1,0,1), e_1 = \\sqrt{2}/2(1,0,1)$ \n",
    "$u_2 = (2,1,0) - 2/2(1,0,1) = (1,1,-1), e_2 = \\sqrt{3}/3(1,1,-1)$\n",
    "$Q \\begin{pmatrix}\n",
    "\\sqrt{2}/2 & \\sqrt{3}/3\\\\\n",
    "0 & \\sqrt{3}/3\\\\\n",
    "\\sqrt{2}/2 & -\\sqrt{3}/3\n",
    "\\end{pmatrix}$ So, P is:"
   ]
  },
  {
   "cell_type": "code",
   "execution_count": 16,
   "metadata": {},
   "outputs": [
    {
     "data": {
      "text/plain": [
       "array([[ 0.83333333,  0.33333333,  0.16666667],\n",
       "       [ 0.33333333,  0.33333333, -0.33333333],\n",
       "       [ 0.16666667, -0.33333333,  0.83333333]])"
      ]
     },
     "execution_count": 16,
     "metadata": {},
     "output_type": "execute_result"
    }
   ],
   "source": [
    "Q = np.array([[1/np.sqrt(2),np.sqrt(3)/3],\n",
    "          [0,np.sqrt(3)/3],\n",
    "          [1/np.sqrt(2),-np.sqrt(3)/3]])\n",
    "np.dot(Q, Q.T)"
   ]
  },
  {
   "cell_type": "markdown",
   "metadata": {},
   "source": [
    "Or, $P = A(A^*A)^{-1}A^*$ and P is:"
   ]
  },
  {
   "cell_type": "code",
   "execution_count": 17,
   "metadata": {},
   "outputs": [
    {
     "data": {
      "text/plain": [
       "array([[ 0.83333333,  0.33333333,  0.16666667],\n",
       "       [ 0.33333333,  0.33333333, -0.33333333],\n",
       "       [ 0.16666667, -0.33333333,  0.83333333]])"
      ]
     },
     "execution_count": 17,
     "metadata": {},
     "output_type": "execute_result"
    }
   ],
   "source": [
    "A = np.array([[1,2],\n",
    "              [0,1],\n",
    "              [1,0]])\n",
    "np.dot(np.dot(A, np.linalg.inv(np.dot(A.T, A))), A.T)"
   ]
  },
  {
   "cell_type": "markdown",
   "metadata": {},
   "source": [
    "### Exercise 5"
   ]
  },
  {
   "cell_type": "markdown",
   "metadata": {},
   "source": [
    "a) Note that if $P \\not = 0$, then there is some $v \\in range(P) such that $Pv = v$. \\|P\\|_2 = \\sup_{\\|x\\| = 1}\\|Px\\|_2 \\ge \\|P\\frac{v}\\|_2/\\|v\\|_2 = \\frac{\\|v\\|_2}{\\|v\\|_2} = 1$.\n",
    "b) If $P$ is orthogonal too then $\\|P\\|_2 = \\sup_{\\|x\\| = 1}\\|Px\\|_2 = \\sup_{\\|x\\| = 1}\\|x\\|_2 = 1$ since orthogonal matirces does not change the norm. "
   ]
  },
  {
   "cell_type": "markdown",
   "metadata": {},
   "source": [
    "# Chapter 7"
   ]
  },
  {
   "cell_type": "markdown",
   "metadata": {},
   "source": [
    "### Exercise 1"
   ]
  },
  {
   "cell_type": "markdown",
   "metadata": {},
   "source": [
    "In exercise $4$ of the chapter $6$ we already computed by the Gram-Schmidt provess the $Q$ matrix. a)Let's compute $R$ from $A = QR, R = Q^{*}A$"
   ]
  },
  {
   "cell_type": "code",
   "execution_count": 22,
   "metadata": {},
   "outputs": [
    {
     "data": {
      "text/plain": [
       "array([[1.41421356, 0.        ],\n",
       "       [0.        , 1.        ]])"
      ]
     },
     "execution_count": 22,
     "metadata": {},
     "output_type": "execute_result"
    }
   ],
   "source": [
    "A = np.array([[1,0],\n",
    "              [0,1],\n",
    "              [1,0]])\n",
    "\n",
    "Q = np.array([[1/np.sqrt(2),0], # from the previous section\n",
    "              [0,1],\n",
    "              [1/np.sqrt(2),0]])\n",
    "np.dot(Q.T, A)"
   ]
  },
  {
   "cell_type": "markdown",
   "metadata": {},
   "source": [
    "To get the full QR decomposition append a single row of zeros to $R$ and a single orthonormal colum to $Q$ like $(-1/\\sqrt(2), 0, 1/\\sqrt(2))^*$."
   ]
  },
  {
   "cell_type": "markdown",
   "metadata": {},
   "source": [
    "b) To get the full QR append a single row of zeros to $R$ and a single orthonormal column to Q like $1/\\sqrt{6}(1, -2, -1)$"
   ]
  },
  {
   "cell_type": "code",
   "execution_count": 23,
   "metadata": {},
   "outputs": [
    {
     "data": {
      "text/plain": [
       "array([[1.41421356, 1.41421356],\n",
       "       [0.        , 1.73205081]])"
      ]
     },
     "execution_count": 23,
     "metadata": {},
     "output_type": "execute_result"
    }
   ],
   "source": [
    "A = np.array([[1,2, 1],\n",
    "              [0,1, -2],\n",
    "              [1,0, -1]])\n",
    "\n",
    "Q = np.array([[1/np.sqrt(2),np.sqrt(3)/3], # from the previous section\n",
    "              [0,np.sqrt(3)/3],\n",
    "              [1/np.sqrt(2),-np.sqrt(3)/3]])\n",
    "np.dot(Q.T, A)"
   ]
  },
  {
   "cell_type": "markdown",
   "metadata": {},
   "source": [
    "### Exercise 2"
   ]
  },
  {
   "cell_type": "code",
   "execution_count": 2,
   "metadata": {},
   "outputs": [
    {
     "data": {
      "text/plain": [
       "(array([[ 1.,  0.,  0.],\n",
       "        [-0.,  1.,  0.],\n",
       "        [-0., -0.,  1.]]),\n",
       " array([[1., 0., 2.],\n",
       "        [0., 1., 0.],\n",
       "        [0., 0., 0.]]))"
      ]
     },
     "execution_count": 2,
     "metadata": {},
     "output_type": "execute_result"
    }
   ],
   "source": [
    "A = np.array([[1,0,2],\n",
    "              [0,1,0],\n",
    "              [0,0,0]])\n",
    "np.linalg.qr(A)"
   ]
  },
  {
   "cell_type": "markdown",
   "metadata": {},
   "source": [
    "### Exercise 3"
   ]
  },
  {
   "cell_type": "markdown",
   "metadata": {},
   "source": [
    "$\\det(A) = \\det(QR) = \\det(Q)\\det(R) = |\\det(R)| = \\|\\prod_{j}r_{jj}\\|$\n",
    "\n",
    "$\\|a_j\\|^2 = \\|\\sum_{i=1}^{n}r_{ij}q_{j}\\| \\ge \\|r_{jj}\\|^2$\n",
    "\n",
    "$|\\det(A)| \\le \\prod_{j=1}^{n}\\|a_j\\|$"
   ]
  },
  {
   "cell_type": "markdown",
   "metadata": {},
   "source": [
    "### Exercise 4"
   ]
  },
  {
   "cell_type": "markdown",
   "metadata": {},
   "source": [
    "https://www.physicsforums.com/threads/find-intersection-of-3x2-matrices-using-qr-factorization.431305/"
   ]
  },
  {
   "cell_type": "markdown",
   "metadata": {},
   "source": [
    "### Exercise 5"
   ]
  },
  {
   "cell_type": "markdown",
   "metadata": {},
   "source": [
    "a) $\\text{rank}(A) = \\text{rank}(QR) = \\text{rank}(R)$. Since, the invertable matrices does not affect the rank. Hence, $A$ has rank $n$ iff all diagonal entries of $\\hat{R}$ are non-zero.\n",
    "\n",
    "b) Exactly $k$."
   ]
  },
  {
   "cell_type": "markdown",
   "metadata": {},
   "source": [
    "# Chapter 8"
   ]
  },
  {
   "cell_type": "markdown",
   "metadata": {},
   "source": [
    "### Exercise 1"
   ]
  },
  {
   "cell_type": "markdown",
   "metadata": {},
   "source": [
    "In $r_{ii} = \\|v_i\\|$ there are $m$-multiplications, $m-1$ additions, $1$ square root-in total $2m$ flops.  \n",
    "In $q_i = v_{i}/r_{ii}$ there are $m$ divisions.  \n",
    "In $r_{ij} = q_i^{*}v_j$ there are $m$-multiplications, $m-1$ additions - in total $2m-1$ flops.  \n",
    "In $v_j = v_j - r_{ij}q_{i}$ there are $m$-multiplications, $m$ substractions - in total $2m$ flops\n",
    "\n",
    "So, all flop counts are equal to:\n",
    "$\\sum_{i=1}^{n}(m+2m+\\sum_{j=i+1}^{n}(4m-1)) = 3m\\sum_{i=1}^{n}(i) + \\sum_{i=1}^{n}(n-i)(4m-1) = 3mn + (4m-1)(n^2 - \\frac{n(n+1)}{2})$"
   ]
  },
  {
   "cell_type": "markdown",
   "metadata": {},
   "source": [
    "### Exercise 2"
   ]
  },
  {
   "cell_type": "code",
   "execution_count": null,
   "metadata": {},
   "outputs": [],
   "source": [
    "def modified_qr(A):\n",
    "    \"\"\"\n",
    "    Computes the QR decomposition of a given matrix.\n",
    "    \n",
    "    :param A: and m by n matrix where m is greater than\n",
    "              or equal to n.\n",
    "    :returns: m by n orthogonal matrix q and an n by n\n",
    "              triangular matrix r.\n",
    "    \"\"\"\n",
    "    m, n = A.shape\n",
    "    assert m >= n\n",
    "    v = [0]*n\n",
    "    q = [0]*n\n",
    "    r = np.array([0]*n*n)\n",
    "    r = r.reshape(n, n)\n",
    "    for i in range(n):\n",
    "        v[i] = A[:,i:i+1]\n",
    "    for i in range(n):\n",
    "        r[i][i] = np.linalg.norm(v[i])\n",
    "        q[i] = v[i]/r[i][i]\n",
    "        for j in range(i+1, n):\n",
    "            r[i][j] = np.dot(np.transpose(q[i]), v[j])\n",
    "            v[j] = v[j] - r[i][j]*q[i]\n",
    "    return q, r"
   ]
  },
  {
   "cell_type": "markdown",
   "metadata": {},
   "source": [
    "### Exercise 3"
   ]
  },
  {
   "cell_type": "markdown",
   "metadata": {},
   "source": [
    "From playing around with the diagonal elements I think that they determine the rotation and magniutde of a vector in a new orthogonal corrdinate system."
   ]
  },
  {
   "cell_type": "code",
   "execution_count": 52,
   "metadata": {},
   "outputs": [
    {
     "data": {
      "text/plain": [
       "(array([[-0.8, -0.6],\n",
       "        [-0.6,  0.8]]),\n",
       " array([[-5., -6.],\n",
       "        [ 0., -2.]]))"
      ]
     },
     "execution_count": 52,
     "metadata": {},
     "output_type": "execute_result"
    }
   ],
   "source": [
    "A = np.array([[4,6],\n",
    "              [3,2]])\n",
    "np.linalg.qr(A)"
   ]
  },
  {
   "cell_type": "code",
   "execution_count": 65,
   "metadata": {},
   "outputs": [
    {
     "data": {
      "text/plain": [
       "(-20, 20)"
      ]
     },
     "execution_count": 65,
     "metadata": {},
     "output_type": "execute_result"
    },
    {
     "data": {
      "image/png": "[encoded data removed]",
      "text/plain": [
       "<Figure size 432x288 with 1 Axes>"
      ]
     },
     "metadata": {
      "needs_background": "light"
     },
     "output_type": "display_data"
    }
   ],
   "source": [
    "plt.quiver([0], [0], [1], [2], color='b', units='xy', scale=1)\n",
    "plt.quiver([0], [0], [1], [0], color='black', units='xy', scale=0.15)\n",
    "plt.quiver([0], [0], [0], [1], color='black', units='xy', scale=0.15)\n",
    "\n",
    "# in qr\n",
    "plt.quiver([0], [0], [-17], [-4], color='r', units='xy', scale=1)\n",
    "plt.quiver([0], [0], [-7], [-4], color='y', units='xy', scale=1) # play with the coordinates to see\n",
    "                                                                 # how vector changes.\n",
    "plt.quiver([0], [0], [-0.8], [-0.6], color='g', units='xy', scale=0.15)\n",
    "plt.quiver([0], [0], [-0.6], [0.8], color='g', units='xy', scale=0.15)\n",
    "#plt.quiver([0], [0], [0], [1], color='black', units='xy', scale=0.15)\n",
    "\n",
    "plt.xlim(-20, 20)\n",
    "plt.ylim(-20, 20)"
   ]
  },
  {
   "cell_type": "markdown",
   "metadata": {},
   "source": [
    "### SVD"
   ]
  },
  {
   "cell_type": "markdown",
   "metadata": {},
   "source": [
    "Let $A$ be an $m \\times n$ matrix of rank $r$. Let's compute its SVD."
   ]
  },
  {
   "cell_type": "code",
   "execution_count": 1,
   "metadata": {},
   "outputs": [],
   "source": [
    "import numpy as np\n",
    "import matplotlib.pyplot as plt\n",
    "\n",
    "%matplotlib inline\n",
    "\n",
    "A = np.array([3,0,0,-2]).reshape(2,2)"
   ]
  },
  {
   "cell_type": "markdown",
   "metadata": {},
   "source": [
    "Compute $A^{*}A$, its eigenvalues, eigenvectors."
   ]
  },
  {
   "cell_type": "code",
   "execution_count": 21,
   "metadata": {},
   "outputs": [],
   "source": [
    "B = np.dot(np.transpose(A), A)\n",
    "eig_vals_B, eig_vects_B = np.linalg.eig(B)"
   ]
  },
  {
   "cell_type": "markdown",
   "metadata": {},
   "source": [
    "Compute $AA^{*}$, its eigenvalues, eigenvectors."
   ]
  },
  {
   "cell_type": "code",
   "execution_count": 22,
   "metadata": {},
   "outputs": [],
   "source": [
    "C = np.dot(A, np.transpose(A))\n",
    "eig_vals_C, eig_vects_C = np.linalg.eig(C)"
   ]
  },
  {
   "cell_type": "code",
   "execution_count": 24,
   "metadata": {},
   "outputs": [
    {
     "data": {
      "text/plain": [
       "array([3., 2.])"
      ]
     },
     "execution_count": 24,
     "metadata": {},
     "output_type": "execute_result"
    }
   ],
   "source": [
    "singular_values = np.sqrt(eig_vals_B)\n",
    "singular_values"
   ]
  },
  {
   "cell_type": "markdown",
   "metadata": {},
   "source": [
    "$A = UEV^{T},A^{*}A = VEU^{T}UEV^{T} = VE^2V^{T}, A^{*}AV = VE^2$"
   ]
  },
  {
   "cell_type": "markdown",
   "metadata": {},
   "source": [
    "$A = UEV^{T},AA^{*} =  UEV^{T}VEU^{T} = UE^2U^{T}, AA^{*}U = UE^2$"
   ]
  },
  {
   "cell_type": "code",
   "execution_count": 31,
   "metadata": {},
   "outputs": [],
   "source": [
    "U = eig_vects_C\n",
    "V_t = np.transpose(eig_vects_B)\n",
    "E = np.diag(singular_values)"
   ]
  },
  {
   "cell_type": "code",
   "execution_count": 34,
   "metadata": {},
   "outputs": [
    {
     "data": {
      "text/plain": [
       "array([[3., 0.],\n",
       "       [0., 2.]])"
      ]
     },
     "execution_count": 34,
     "metadata": {},
     "output_type": "execute_result"
    }
   ],
   "source": [
    "# SVD\n",
    "np.dot(np.dot(U, E), V_t)"
   ]
  },
  {
   "cell_type": "code",
   "execution_count": 145,
   "metadata": {},
   "outputs": [
    {
     "data": {
      "text/plain": [
       "(array([[1., 0.],\n",
       "        [0., 1.]]),\n",
       " array([3., 2.]),\n",
       " array([[ 1.,  0.],\n",
       "        [-0., -1.]]))"
      ]
     },
     "execution_count": 145,
     "metadata": {},
     "output_type": "execute_result"
    }
   ],
   "source": [
    "# SVD using numpy\n",
    "u, s, v_t = np.linalg.svd(A)\n",
    "u, s, v_t"
   ]
  },
  {
   "cell_type": "code",
   "execution_count": 160,
   "metadata": {},
   "outputs": [
    {
     "data": {
      "image/png": "[encoded data removed]",
      "text/plain": [
       "<Figure size 432x288 with 1 Axes>"
      ]
     },
     "metadata": {
      "needs_background": "light"
     },
     "output_type": "display_data"
    }
   ],
   "source": [
    "circle1 = plt.Circle((0, 0), 1, fill = False)\n",
    "\n",
    "fig, ax = plt.subplots()\n",
    "\n",
    "plt.xlim(-1.25,1.25)\n",
    "plt.ylim(-1.25,1.25)\n",
    "\n",
    "ax.set_aspect(1)\n",
    "\n",
    "ax.add_artist(circle1)\n",
    "\n",
    "V = np.transpose(np.array([[ 1.,  0.],\n",
    "                        [-0., -1.]]))\n",
    "\n",
    "plt.quiver(*origin, V[0], V[1], scale=2.5)\n",
    "\n",
    "plt.annotate('$v_1$', (0.4,-0.1))\n",
    "plt.annotate('$v_2$', (-0.2,-0.5))\n",
    "plt.title(\"Right singular values\")\n",
    "\n",
    "plt.show()"
   ]
  },
  {
   "cell_type": "code",
   "execution_count": 153,
   "metadata": {},
   "outputs": [
    {
     "data": {
      "image/png": "[encoded data removed]",
      "text/plain": [
       "<Figure size 432x288 with 1 Axes>"
      ]
     },
     "metadata": {
      "needs_background": "light"
     },
     "output_type": "display_data"
    }
   ],
   "source": [
    "from math import pi, cos, sin\n",
    "\n",
    "u=0  # x-position of the center\n",
    "v=0  # y-position of the center\n",
    "a=1.5  # radius on the x-axis\n",
    "b=0.7  # radius on the y-axis\n",
    "t_rot=-pi/4  # rotation angle\n",
    "\n",
    "t = np.linspace(0, 2*pi, 100)\n",
    "Ell = np.array([a*np.cos(t) , b*np.sin(t)])  \n",
    "     \n",
    "R_rot = np.array([[cos(t_rot) , -sin(t_rot)],\n",
    "                  [sin(t_rot) , cos(t_rot)]])  \n",
    "     \n",
    "Ell_rot = np.dot(R_rot, Ell)\n",
    "\n",
    "plt.plot( u+Ell_rot[0,:] , v+Ell_rot[1,:],'darkorange' )    #rotated ellipse\n",
    "\n",
    "plt.quiver(*origin, U[0]*E[0], U[1]*E[1], scale=10)\n",
    "\n",
    "plt.annotate('$\\sigma_1u_1$', (0.3, -0.1))\n",
    "plt.annotate('$\\sigma_2u_2$', (-0.22, 0.4))\n",
    "plt.title(\"Left singular values\")\n",
    "\n",
    "plt.show()"
   ]
  },
  {
   "cell_type": "code",
   "execution_count": 151,
   "metadata": {},
   "outputs": [
    {
     "data": {
      "image/png": "[encoded data removed]",
      "text/plain": [
       "<Figure size 432x288 with 1 Axes>"
      ]
     },
     "metadata": {
      "needs_background": "light"
     },
     "output_type": "display_data"
    }
   ],
   "source": [
    "plt.semilogy(np.diag(s))\n",
    "plt.title('Singular Values')\n",
    "plt.show()"
   ]
  },
  {
   "cell_type": "code",
   "execution_count": 150,
   "metadata": {
    "scrolled": true
   },
   "outputs": [
    {
     "data": {
      "text/plain": [
       "Text(0.5, 1.0, 'Singular Values Cumulative Sum')"
      ]
     },
     "execution_count": 150,
     "metadata": {},
     "output_type": "execute_result"
    },
    {
     "data": {
      "image/png": "[encoded data removed]",
      "text/plain": [
       "<Figure size 432x288 with 1 Axes>"
      ]
     },
     "metadata": {
      "needs_background": "light"
     },
     "output_type": "display_data"
    }
   ],
   "source": [
    "plt.plot(np.cumsum(np.diag(s)/np.sum(s)))\n",
    "plt.title('Singular Values Cumulative Sum')\n",
    "plt.show()"
   ]
  },
  {
   "cell_type": "code",
   "execution_count": 164,
   "metadata": {},
   "outputs": [],
   "source": [
    "# define a function to compute SVD\n",
    "def svd(A):\n",
    "    B = np.dot(np.transpose(A), A)\n",
    "    s, U = np.linalg.eig(B)\n",
    "    S = np.diag(np.sqrt(s))\n",
    "    C = np.dot(A, np.transpose(A))\n",
    "    V = np.linalg.eig(C)[1]\n",
    "    return U, S, V"
   ]
  },
  {
   "cell_type": "code",
   "execution_count": 168,
   "metadata": {},
   "outputs": [
    {
     "data": {
      "text/plain": [
       "<matplotlib.image.AxesImage at 0x2290ccdbe80>"
      ]
     },
     "execution_count": 168,
     "metadata": {},
     "output_type": "execute_result"
    },
    {
     "data": {
      "image/png": "[encoded data removed]",
      "text/plain": [
       "<Figure size 432x288 with 1 Axes>"
      ]
     },
     "metadata": {
      "needs_background": "light"
     },
     "output_type": "display_data"
    }
   ],
   "source": [
    "from skimage.io import imread, imshow\n",
    "\n",
    "img = imread(\"C:/Users/User/Desktop/yoy.jpg\", as_gray = True)\n",
    "imshow(img)"
   ]
  },
  {
   "cell_type": "code",
   "execution_count": 170,
   "metadata": {
    "scrolled": true
   },
   "outputs": [
    {
     "data": {
      "text/plain": [
       "(2048, 1536)"
      ]
     },
     "execution_count": 170,
     "metadata": {},
     "output_type": "execute_result"
    }
   ],
   "source": [
    "img.shape"
   ]
  },
  {
   "cell_type": "code",
   "execution_count": 186,
   "metadata": {},
   "outputs": [],
   "source": [
    "img_normalized = (img - np.mean(img, axis = 0))/np.sqrt(np.var(img, axis = 0))"
   ]
  },
  {
   "cell_type": "code",
   "execution_count": 182,
   "metadata": {},
   "outputs": [],
   "source": [
    "# not working!\n",
    "U, S, V = svd(img_normalized)"
   ]
  },
  {
   "cell_type": "code",
   "execution_count": 173,
   "metadata": {
    "scrolled": true
   },
   "outputs": [],
   "source": [
    "u,s,v_t = np.linalg.svd(img)"
   ]
  },
  {
   "cell_type": "code",
   "execution_count": 190,
   "metadata": {},
   "outputs": [
    {
     "data": {
      "text/plain": [
       "Text(0.5, 1.0, 'Singular Values')"
      ]
     },
     "execution_count": 190,
     "metadata": {},
     "output_type": "execute_result"
    },
    {
     "data": {
      "image/png": "[encoded data removed]",
      "text/plain": [
       "<Figure size 432x288 with 1 Axes>"
      ]
     },
     "metadata": {
      "needs_background": "light"
     },
     "output_type": "display_data"
    }
   ],
   "source": [
    "plt.semilogy(np.diag(S))\n",
    "plt.title('Singular Values')\n",
    "plt.show()"
   ]
  },
  {
   "cell_type": "code",
   "execution_count": 189,
   "metadata": {
    "scrolled": true
   },
   "outputs": [
    {
     "data": {
      "text/plain": [
       "Text(0.5, 1.0, 'Singular Values Cumulative sum')"
      ]
     },
     "execution_count": 189,
     "metadata": {},
     "output_type": "execute_result"
    },
    {
     "data": {
      "image/png": "[encoded data removed]",
      "text/plain": [
       "<Figure size 432x288 with 1 Axes>"
      ]
     },
     "metadata": {
      "needs_background": "light"
     },
     "output_type": "display_data"
    }
   ],
   "source": [
    "plt.plot(np.cumsum(np.diag(s))/np.sum(s))\n",
    "plt.title('Singular Values Cumulative sum')"
   ]
  },
  {
   "cell_type": "code",
   "execution_count": 200,
   "metadata": {},
   "outputs": [
    {
     "data": {
      "image/png": "[encoded data removed]",
      "text/plain": [
       "<Figure size 432x288 with 1 Axes>"
      ]
     },
     "metadata": {
      "needs_background": "light"
     },
     "output_type": "display_data"
    }
   ],
   "source": [
    "i = 20\n",
    "s = np.diag(s)\n",
    "A_approximate = u[:,:i] @ s[0:i,:i] @ v_t[:i,:]\n",
    "img = plt.imshow(A_approximate)\n",
    "img.set_cmap('gray')\n",
    "plt.axis('off')\n",
    "plt.show()"
   ]
  },
  {
   "cell_type": "code",
   "execution_count": null,
   "metadata": {},
   "outputs": [],
   "source": [
    "j = 0\n",
    "for i in (25, 50, 100, 200):\n",
    "    A_approximate = u[:,:i] @ s[0:i,:i] @ v_t[:i,:]\n",
    "    plt.figure(j)\n",
    "    img = plt.imshow(A_approximate)\n",
    "    img.set_cmap('gray')\n",
    "    plt.axis('off')\n",
    "    plt.show()"
   ]
  },
  {
   "cell_type": "markdown",
   "metadata": {},
   "source": [
    "## QR"
   ]
  },
  {
   "cell_type": "markdown",
   "metadata": {},
   "source": [
    "$a_{11} = q_1r_{11}$\n",
    "$a_{12} = q_1r_{12} + q_2r_{22}$ ...\n"
   ]
  },
  {
   "cell_type": "code",
   "execution_count": 1,
   "metadata": {},
   "outputs": [],
   "source": [
    "%matplotlib inline\n",
    "import numpy as np"
   ]
  },
  {
   "cell_type": "code",
   "execution_count": 168,
   "metadata": {},
   "outputs": [],
   "source": [
    "def qr(A):\n",
    "    \"\"\"\n",
    "    Computes the QR decomposition of a given matrix.\n",
    "    \n",
    "    :param A: and m by n matrix where m is greater than\n",
    "              or equal to n.\n",
    "    :returns: m by n orthogonal matrix q and an n by n\n",
    "              triangular matrix r.\n",
    "    \"\"\"\n",
    "    m, n = A.shape\n",
    "    v = [0] * n\n",
    "    q = [0] * n\n",
    "    r = np.array([0] *n*n)\n",
    "    r = r.reshape(n,n)\n",
    "    for j in range(0, n):\n",
    "        v[j] = A[:,j:j+1]\n",
    "        for i in range(0, j):\n",
    "            #print(i,j)\n",
    "            #print(np.dot(np.transpose(q[i]),A[:,j:j+1]))\n",
    "            r[i][j] = np.dot(np.transpose(q[i]),A[:,j:j+1])\n",
    "            v[j] = v[j] - r[i][j]*q[i]\n",
    "        r[j][j] = np.linalg.norm(v[j])\n",
    "        q[j] = v[j]/r[j][j]\n",
    "    return q, r"
   ]
  },
  {
   "cell_type": "code",
   "execution_count": 6,
   "metadata": {
    "scrolled": true
   },
   "outputs": [
    {
     "data": {
      "text/plain": [
       "array([[4, 5],\n",
       "       [1, 3]])"
      ]
     },
     "execution_count": 6,
     "metadata": {},
     "output_type": "execute_result"
    }
   ],
   "source": [
    "A = np.array([4,5,1,3]).reshape(2,2) \n",
    "A"
   ]
  },
  {
   "cell_type": "code",
   "execution_count": 169,
   "metadata": {},
   "outputs": [
    {
     "data": {
      "text/plain": [
       "([array([[1.  ],\n",
       "         [0.25]]),\n",
       "  array([[0.  ],\n",
       "         [1.75]])],\n",
       " array([[4, 5],\n",
       "        [0, 1]]))"
      ]
     },
     "execution_count": 169,
     "metadata": {},
     "output_type": "execute_result"
    }
   ],
   "source": [
    "qr(A)"
   ]
  },
  {
   "cell_type": "markdown",
   "metadata": {},
   "source": [
    "## Modified QR"
   ]
  },
  {
   "cell_type": "code",
   "execution_count": 8,
   "metadata": {},
   "outputs": [],
   "source": [
    "def modified_qr(A):\n",
    "    \"\"\"\n",
    "    Computes the QR decomposition of a given matrix.\n",
    "    \n",
    "    :param A: and m by n matrix where m is greater than\n",
    "              or equal to n.\n",
    "    :returns: m by n orthogonal matrix q and an n by n\n",
    "              triangular matrix r.\n",
    "    \"\"\"\n",
    "    m, n = A.shape\n",
    "    assert m >= n\n",
    "    v = [0]*n\n",
    "    q = [0]*n\n",
    "    r = np.array([0]*n*n)\n",
    "    r = r.reshape(n, n)\n",
    "    for i in range(n):\n",
    "        v[i] = A[:,i:i+1]\n",
    "    for i in range(n):\n",
    "        r[i][i] = np.linalg.norm(v[i])\n",
    "        q[i] = v[i]/r[i][i]\n",
    "        for j in range(i+1, n):\n",
    "            r[i][j] = np.dot(np.transpose(q[i]), v[j])\n",
    "            v[j] = v[j] - r[i][j]*q[i]\n",
    "    return q, r\n",
    "    "
   ]
  },
  {
   "cell_type": "code",
   "execution_count": 9,
   "metadata": {
    "scrolled": false
   },
   "outputs": [
    {
     "data": {
      "text/plain": [
       "([array([[1.  ],\n",
       "         [0.25]]),\n",
       "  array([[0.  ],\n",
       "         [1.75]])],\n",
       " array([[4, 5],\n",
       "        [0, 1]]))"
      ]
     },
     "execution_count": 9,
     "metadata": {},
     "output_type": "execute_result"
    }
   ],
   "source": [
    "modified_qr(A)"
   ]
  },
  {
   "cell_type": "markdown",
   "metadata": {},
   "source": [
    "## Chapter 12: Conditioning and Stability"
   ]
  },
  {
   "cell_type": "markdown",
   "metadata": {},
   "source": [
    "### Exercise 1"
   ]
  },
  {
   "cell_type": "markdown",
   "metadata": {},
   "source": [
    "$k(A) = \\frac{|A(x+\\sigma x) - Ax|}{|\\sigma x|} \\frac{|x|}{|Ax|} = \\frac{|A(\\sigma x)|}{|\\sigma x|} \\frac{|x|}{|Ax|} \\le \\frac{|A||\\sigma x|}{|\\sigma x|} \\frac{|x|}{|Ax|} = |A| \\frac{|x|}{|Ax|}$\n",
    "\n",
    "If $A$ is singular then $|AA^{-1}| = |I|$ and $|x| = |A^{-1}Ax| \\le |A^{-1}||Ax|$, so $k(A) \\le |A| \\frac{|A^{-1}||Ax|}{|Ax|} = |A^{-1}||A|$\n",
    "\n",
    "$k(A) = |A||A^{-1}|, |A| = \\sigma_1 = 100, |A^{-1}| = 1/\\sigma_n$\n",
    "\n",
    "$|A|_F = \\sqrt{\\sigma_1 + \\sigma_2 + ... + \\sigma_m} = \\sqrt{100 + \\sum_{i=2}^{202} \\sigma_i}$, now if $\\sigma_{202} > 1$ then the $|A_F| \\ge \\sqrt{100 + \\sigma_{i=2}^{202}1} = 101$, which is not the case. If $\\sigma_{202} = 1, then |A|_F = 101$, therefore $k(A) = 100/1 = 100$"
   ]
  },
  {
   "cell_type": "markdown",
   "metadata": {},
   "source": [
    "### Ex. 2"
   ]
  },
  {
   "cell_type": "markdown",
   "metadata": {},
   "source": [
    "We want an $m \\times n$ matrix $A$ that maps $n$-vector of data $\\{x_j\\}$ to $m$-vector of data $\\{p(y_j)\\}$. To get the $p(y_j)$ let write \n",
    " \n",
    " $Y = \\begin{pmatrix}\n",
    "         1 & y_{1} & y_{1}^2 ... y_{1}^n \\\\ \n",
    "         1 & y_{2} & y_{2}^2 ... y_{2}^n \\\\ \n",
    "         ... \\\\\n",
    "         1 & y_{m} & y_{m}^2 ... y_{m}^n \\\\ \n",
    "         \\end{pmatrix}$\n",
    "         \n",
    "and\n",
    "$C = (c_0,c_1,...,c_n)^T$\n",
    "\n",
    "From which we would get $YC = (p(y_1), p(y_2), ..., p(y_m))^{T}$. Now, to map $n$-vector of $\\{x_j\\}$ lets define\n",
    "\n",
    "$B = \\begin{pmatrix}\n",
    "         p(x_1) \\\\\n",
    "         p(x_2) \\\\ \n",
    "         ... \\\\\n",
    "         p(x_n)\n",
    "         \\end{pmatrix}$\n",
    "\n",
    "Such that $AB = YC$. However, note that we can write $B = XC$, where \n",
    " $X = \\begin{pmatrix}\n",
    "         1 & x_{1} & x_{1}^2 ... x_{1}^n \\\\ \n",
    "         1 & x_{2} & x_{2}^2 ... x_{2}^n \\\\ \n",
    "         ... \\\\\n",
    "         1 & x_{n} & x_{n}^2 ... x_{n}^n \\\\ \n",
    "         \\end{pmatrix}$ \n",
    "\n",
    "So, $AB = YC, AXC = YC, (AX - Y)C = 0, AX = Y, A = YX^{-1}$, for any $C$.\n"
   ]
  },
  {
   "cell_type": "code",
   "execution_count": 55,
   "metadata": {
    "scrolled": true
   },
   "outputs": [
    {
     "data": {
      "image/png": "[encoded data removed]",
      "text/plain": [
       "<Figure size 432x288 with 1 Axes>"
      ]
     },
     "metadata": {
      "needs_background": "light"
     },
     "output_type": "display_data"
    }
   ],
   "source": [
    "inf_norm = []\n",
    "for n in range(1,30):\n",
    "    m = 2*n - 1\n",
    "    X = np.vander(np.linspace(-1, 1, n))  # generate a Vandermonde matrix\n",
    "    Y = np.vander(np.linspace(-1, 1, m))\n",
    "    Y = Y[:,(m-n):m]  #% argh, matlab defines Vandermonde with reversed column order\n",
    "\n",
    "    A = np.dot(Y,np.linalg.inv(X))\n",
    "    norm = np.linalg.norm(A, ord = np.inf)\n",
    "    inf_norm.append(norm)\n",
    "\n",
    "plt.scatter(range(1, 30), inf_norm)\n",
    "plt.yscale('log')"
   ]
  },
  {
   "cell_type": "code",
   "execution_count": 20,
   "metadata": {
    "scrolled": false
   },
   "outputs": [
    {
     "data": {
      "text/plain": [
       "5.911939483582315e+72"
      ]
     },
     "execution_count": 20,
     "metadata": {},
     "output_type": "execute_result"
    }
   ],
   "source": [
    "max(np.sum(np.abs(A), axis = 1))"
   ]
  },
  {
   "cell_type": "code",
   "execution_count": 23,
   "metadata": {
    "scrolled": true
   },
   "outputs": [
    {
     "data": {
      "text/plain": [
       "5.911939483582315e+72"
      ]
     },
     "execution_count": 23,
     "metadata": {},
     "output_type": "execute_result"
    }
   ],
   "source": [
    "np.linalg.norm(A, ord = np.inf)"
   ]
  },
  {
   "cell_type": "code",
   "execution_count": null,
   "metadata": {},
   "outputs": [],
   "source": []
  },
  {
   "cell_type": "markdown",
   "metadata": {},
   "source": [
    "## Chapter 13: Floating point arithmetic"
   ]
  },
  {
   "cell_type": "markdown",
   "metadata": {},
   "source": [
    "### Ex.1"
   ]
  },
  {
   "cell_type": "markdown",
   "metadata": {},
   "source": [
    "a) The gap in single precision system is: $S_G = 2^e(m*2^{-24} + (m+1)2^{-24})= 2^e(1*2^{-24})$.\n",
    "The gap in double precision system is: $D_G = 2^e(m*2^{-53} + (m+1)2^{-53})= 2^e(1*2^{-53})$.\n",
    "Hence, there are $S_G / D_G = 2^{-24}/2^{-53} = 2^{-24 + 53} = 2^{29}$ double precision numbers remaining. (see $13.2$)\n"
   ]
  },
  {
   "cell_type": "markdown",
   "metadata": {},
   "source": [
    "The adjacent pair of single precision real numbers are the ones that have $0$-in the $23$-th position of mantissa and $1$ in the $23$-th position of mantissa. Since double precision numbers have $53$-bits instead of the $23$ of the single precision then let the first $23$ bits of double precision number be equal to the first $23$ bits of the lowest of the single precision adjacent real numbers. In the reamining $53-23 = 29$ positions we would have $0$ or $1$, so the total number of them would be $2^29$. Therefore, strictly between the adjacent pair of single precision real numbers there are $2^29 - 1$ double precision real numbers."
   ]
  },
  {
   "cell_type": "markdown",
   "metadata": {},
   "source": [
    " ### Ex.2"
   ]
  },
  {
   "cell_type": "markdown",
   "metadata": {},
   "source": [
    "a) The biggest $m$ can get is $\\beta^T$. Hence the smallest, positive integer nor in $F$ is has $m = \\beta^{t} + 1$. Hence, the exact formula is $\\text{round}((\\beta^{t} + 1 / \\beta^{t})\\beta^{e})$.   \n",
    "b) For single precision the smallest integer that does not belong to $F$ is $-((2^{24}+1)/2^{24})2^{e}$"
   ]
  },
  {
   "cell_type": "markdown",
   "metadata": {},
   "source": [
    "Suppose we have $n$ bits for the mantissa, then the biggest integer that can be represented should have $n$ digits, each of which is represented as $0$ or $1$, therefore in a single precision case it is $2^{23} + 1$ and in case of the double precision it is $2^{53}+1$."
   ]
  },
  {
   "cell_type": "markdown",
   "metadata": {},
   "source": [
    "### Ex. 3"
   ]
  },
  {
   "cell_type": "code",
   "execution_count": 30,
   "metadata": {
    "scrolled": true
   },
   "outputs": [
    {
     "data": {
      "text/plain": [
       "<matplotlib.legend.Legend at 0x1cb04c4cf60>"
      ]
     },
     "execution_count": 30,
     "metadata": {},
     "output_type": "execute_result"
    },
    {
     "data": {
      "image/png": "[encoded data removed]",
      "text/plain": [
       "<Figure size 432x288 with 1 Axes>"
      ]
     },
     "metadata": {
      "needs_background": "light"
     },
     "output_type": "display_data"
    }
   ],
   "source": [
    "x = np.arange(-1.920, 2.080, 0.001)\n",
    "p_x = (x-2)**9\n",
    "p_x_1 = x**9-18*x**8+144*x**7-672*x**6+2016*x**5-4032*x**4+5376*x**3+2304*x - 512\n",
    "plt.plot(p_x, label = '$(x-9)^2$')\n",
    "plt.plot(p_x_1, label = '$x^9-18x^8+144x^7-672x^6+2016x^5-4032x^4 +$'\n",
    "                        '\\n $+5376x^3+2304x - 512$')\n",
    "plt.legend(loc = 'best')"
   ]
  },
  {
   "cell_type": "markdown",
   "metadata": {},
   "source": [
    "## Chapter 14: Stability"
   ]
  },
  {
   "cell_type": "markdown",
   "metadata": {},
   "source": [
    "### Ex. 1"
   ]
  },
  {
   "cell_type": "markdown",
   "metadata": {},
   "source": [
    "a) True, since there exists constant $C$ such that $|sin(x)| \\le C*1$ as $x \\to \\infty$.\n",
    "b) $|\\frac{logx}{x^{1/100}}|$ as $x \\to \\infty$ we can use the L'Hopital's rule to get $|\\frac{1/x}{1/100*x^{-99/100}}| \\to \\infty $ therefore true.\n",
    "\n",
    "d) $|\\frac{n!}{(\\frac{n}{e})^n}|$, we can use the Stirling's formula to get that $|\\frac{n!}{(\\frac{n}{e})^n}| \\to \\infty$. Therefore, no.\n",
    "\n",
    "e) \n",
    "\n",
    "f) $fl(\\pi) = \\pi(1+\\epsilon)$ and $fl(\\pi) - \\pi) = \\pi\\epsilon$ for some $\\epsilon$ with $|\\epsilon| \\le \\epsilon_{machine}$. Therefore, there exists some $C$ such that $|fl(\\pi) - \\pi)| = |\\pi\\epsilon| \\le C\\epsilon_{machine}$. Therefore, true.\n",
    "\n",
    "g) $fl(n\\pi) = n\\pi(1+\\epsilon)$ and $fl(n\\pi) - n\\pi) = n\\pi\\epsilon$, false since there is no $C$ such that the result holds unifromly for all $mathbb{Z}$."
   ]
  },
  {
   "cell_type": "markdown",
   "metadata": {},
   "source": [
    "### Ex. 2"
   ]
  },
  {
   "cell_type": "markdown",
   "metadata": {},
   "source": [
    "Let $f = (1+O(\\epsilon))(1+O(\\epsilon))$, then $f = 1+2O(\\epsilon)+O(\\epsilon)^2$ or $f = 1+2h(\\epsilon) + g(\\epsilon)$ where $h(\\epsilon) = O(\\epsilon), h(\\epsilon) \\le C_1\\epsilon$ and $g(\\epsilon) = O(\\epsilon)^2, g(\\epsilon) \\le (C_2\\epsilon)^2$ both as $\\epsilon \\to 0$. Now we have that $f = 1+2h(\\epsilon) + g(\\epsilon) \\le 1 + 2C_1\\epsilon + (C_2\\epsilon)^2 = 1 + (2C_1 + C_2\\epsilon)\\epsilon \\le 1 + (2C_1 + C_2)\\epsilon$ because $\\epsilon^2 < \\epsilon$ as $\\epsilon \\to 0$. Therefore, $f = 1 + O(\\epsilon)$ as $\\epsilon \\to 0$."
   ]
  },
  {
   "cell_type": "markdown",
   "metadata": {},
   "source": [
    "## Chapter 15: More on Stability"
   ]
  },
  {
   "cell_type": "markdown",
   "metadata": {},
   "source": [
    "## Ex. 1"
   ]
  },
  {
   "cell_type": "markdown",
   "metadata": {},
   "source": [
    "a) $x \\oplus x = (x(1+\\epsilon) + x(1+\\epsilon))(1+\\epsilon_0) = 2x(1+\\epsilon)(1+\\epsilon_0) = 2x(1 + \\epsilon + \\epsilon_0 + \\epsilon \\epsilon_0) = 2\\hat{x}$, where $\\hat{x} = x(1 + \\epsilon + \\epsilon_0 + \\epsilon \\epsilon_0) = x(1+O(\\epsilon_{m})$, backward stable.  \n",
    "b) $x \\otimes x = [x(1+\\epsilon) \\times x(1+\\epsilon)](1+\\epsilon_1) = x^2(1+\\epsilon)^2(1+\\epsilon_1) = \\hat{x}^2$, where $\\hat{x} = x(1+\\epsilon)\\sqrt{(1+\\epsilon_1)} = x(1+O(\\epsilon_m))$, backward stable.  \n",
    "c) $x \\div x = [x(1+\\epsilon) \\div x(1+\\epsilon)](1+\\epsilon_1) = (1+\\epsilon_1) = \\hat{x}$, not backward stable since $\\hat{x}/\\hat{x} = 1$. Forward stable.  \n",
    "d) $x - x = [x(1+\\epsilon) - x(1+\\epsilon)](1+\\epsilon_1) = 0*(1+\\epsilon_1) = 0 = \\hat{x}$, backward stable.  \n",
    "e) Not backward stable since there is no data. $\\sum_{k=0}^{\\infty}1/k! = \\sum_{k=0}^{\\infty}\\prod_{n=1}^{k}[1/n + \\epsilon_n](1+\\epsilon_0) = \\sum_{k=0}^{\\infty}[\\prod_{n=1}^{k}[1/n + \\epsilon_n](1+\\epsilon_0)](1+\\epsilon)$???\n",
    "f) Not backward stable since there is no data. $1/n!\\oplus 1/(n-1)!\\oplus ... = (1/n! + 1/(n-1)!)(1+\\epsilon_{n-1}) + ... = \\$\n"
   ]
  },
  {
   "cell_type": "markdown",
   "metadata": {},
   "source": [
    "a) $f(x, x) = x + x$.\n",
    "$\\hat(f)(x, x) = fl(x) \\oplus fl(x) = x(1+\\epsilon) \\oplus x(1+\\epsilon), |\\epsilon| \\le O(\\epsilon_{machine})$.\n",
    "$\\hat(f)(x, x) = [x(1+\\epsilon) + x(1+\\epsilon)](1+\\epsilon_1) = x(1+\\epsilon_2) + x(1+\\epsilon_2), |\\epsilon_2| \\le 2\\epsilon_{machine} + O(\\epsilon_{machine})$.\n",
    "\n",
    "$f(\\hat{x}, \\hat{x}) = \\hat{x} + \\hat{x}$ where $\\frac{\\hat{x} - x}{|x|} \\le O(\\epsilon_{machine})$\n",
    "Is backward stable.\n",
    "\n",
    "b) $f(x, x) = x*x$.\n",
    "$hat{f}(x,x) = fl(x) \\otimes fl(x) = x(1+\\epsilon) \\otimes x(1+\\epsilon), |\\epsilon| \\le O(\\epsilon_{machine})$.\n",
    "$\\hat(f)(x, x) = [x(1+\\epsilon) * x(1+\\epsilon)](1+\\epsilon_1) = x(1+\\epsilon_2) * x(1+\\epsilon_2), |\\epsilon_2| \\le 2\\epsilon_{machine} + O(\\epsilon_{machine})$.\n",
    "\n",
    "$f(\\hat{x}, \\hat{x}) = \\hat{x} * \\hat{x}$ where $\\frac{\\hat{x} - x}{|x|} \\le O(\\epsilon_{machine})$\n",
    "Is backward stable.\n",
    "\n",
    "c) $f(x, x) = x / x$.\n",
    "$hat{f}(x,x) = fl(x) \\div fl(x) = x(1+\\epsilon) \\div x(1+\\epsilon), |\\epsilon| \\le O(\\epsilon_{machine})$.\n",
    "$\\hat(f)(x, x) = [x(1+\\epsilon) / x(1+\\epsilon)](1+\\epsilon_1) = x(1+\\epsilon_2) / x(1+\\epsilon), |\\epsilon_2| \\le 2\\epsilon_{machine} + O(\\epsilon_{machine}), |\\epsilon| \\le O(\\epsilon_{machine})$.\n",
    "\n",
    "$f(\\hat{x}, \\hat{x}) = \\hat{x} / \\hat{x}$ where $\\frac{\\hat{x} - x}{|x|} \\le O(\\epsilon_{machine})$\n",
    "Is not backward stable.\n",
    "\n",
    "$\\frac{\\hat{f}(x,x) - f(\\hat{x}, \\hat{x})}{f(\\hat{x}, \\hat{x})} = \\frac{|x(1+\\epsilon_2) - x(1+\\epsilon)|}{|x(1+\\epsilon)|}$"
   ]
  },
  {
   "cell_type": "markdown",
   "metadata": {},
   "source": [
    "### Exercise 2"
   ]
  },
  {
   "cell_type": "markdown",
   "metadata": {},
   "source": [
    "a) The backward stability would mean that we would get the exact solution $\\hat{U \\Sigma V^{*}} = U \\Sigma V^{*}$ to the almost exact problem $\\frac{\\|\\hat{A} - A\\|}{\\|A\\|} = O(\\epsilon)$.  \n",
    "b) One reason why the common algorithm can not be backward stable may be the fact that to get $\\Sigma, U, V$ explicitly we are computing the eigenvalue-eigenvector pairs of $AA^{*}$ and $A^{*}A$ which as it was mentioned in the book is not backward stable problem."
   ]
  },
  {
   "cell_type": "markdown",
   "metadata": {},
   "source": [
    "# Chapter 16"
   ]
  },
  {
   "cell_type": "markdown",
   "metadata": {},
   "source": [
    "### Exercise 1"
   ]
  },
  {
   "cell_type": "markdown",
   "metadata": {},
   "source": [
    "a) $f(A) = B = Q_k...Q_1A$.  \n",
    "$\\hat(f(A)) = \\hat{B} = Q_k...Q_1(A + \\nabla A)$ where $\\|\\nabla A\\| = O(\\epsilon)$. Then,\n",
    "$\\|\\hat{B} - B\\| = \\|Q_k...Q_1(A + \\nabla A) - Q_k...Q_1A\\| = \\|(Q_k...Q_1)[(A + \\nabla A) - A]\\| = \\|Q_k...Q_1\\|\\|\\nabla A\\| = \\|Q_k\\|...\\|Q_1\\|\\|\\nabla A\\| = \\|\\nabla A\\| = O(\\epsilon)$.  \n",
    "b) If the matrices are not unitary the equality sign above turns to the less than or equal."
   ]
  },
  {
   "cell_type": "code",
   "execution_count": 16,
   "metadata": {},
   "outputs": [],
   "source": [
    "### Exercise 2"
   ]
  },
  {
   "cell_type": "code",
   "execution_count": 1,
   "metadata": {},
   "outputs": [
    {
     "ename": "NameError",
     "evalue": "name 'np' is not defined",
     "output_type": "error",
     "traceback": [
      "\u001b[1;31m---------------------------------------------------------------------------\u001b[0m",
      "\u001b[1;31mNameError\u001b[0m                                 Traceback (most recent call last)",
      "\u001b[1;32m<ipython-input-1-3e6f36f28f94>\u001b[0m in \u001b[0;36m<module>\u001b[1;34m\u001b[0m\n\u001b[0;32m     35\u001b[0m     \u001b[1;32mreturn\u001b[0m \u001b[0mu_norms\u001b[0m\u001b[1;33m,\u001b[0m \u001b[0mv_norms\u001b[0m\u001b[1;33m,\u001b[0m \u001b[0msolution_norms\u001b[0m\u001b[1;33m,\u001b[0m \u001b[0mu_2_u\u001b[0m\u001b[1;33m,\u001b[0m \u001b[0mv_2_v\u001b[0m\u001b[1;33m\u001b[0m\u001b[1;33m\u001b[0m\u001b[0m\n\u001b[0;32m     36\u001b[0m \u001b[1;33m\u001b[0m\u001b[0m\n\u001b[1;32m---> 37\u001b[1;33m \u001b[0mu_norms\u001b[0m\u001b[1;33m,\u001b[0m \u001b[0mv_norms\u001b[0m\u001b[1;33m,\u001b[0m \u001b[0msol_norms\u001b[0m\u001b[1;33m,\u001b[0m \u001b[0mu_2u\u001b[0m\u001b[1;33m,\u001b[0m \u001b[0mv_2v\u001b[0m \u001b[1;33m=\u001b[0m \u001b[0mrandom_SVD\u001b[0m\u001b[1;33m(\u001b[0m\u001b[1;36m5\u001b[0m\u001b[1;33m)\u001b[0m\u001b[1;33m\u001b[0m\u001b[1;33m\u001b[0m\u001b[0m\n\u001b[0m",
      "\u001b[1;32m<ipython-input-1-3e6f36f28f94>\u001b[0m in \u001b[0;36mrandom_SVD\u001b[1;34m(n_iter)\u001b[0m\n\u001b[0;32m     18\u001b[0m         \u001b[0mU\u001b[0m \u001b[1;33m=\u001b[0m \u001b[0mstats\u001b[0m\u001b[1;33m.\u001b[0m\u001b[0mortho_group\u001b[0m\u001b[1;33m.\u001b[0m\u001b[0mrvs\u001b[0m\u001b[1;33m(\u001b[0m\u001b[1;36m50\u001b[0m\u001b[1;33m)\u001b[0m\u001b[1;33m\u001b[0m\u001b[1;33m\u001b[0m\u001b[0m\n\u001b[0;32m     19\u001b[0m         \u001b[0mV\u001b[0m \u001b[1;33m=\u001b[0m \u001b[0mstats\u001b[0m\u001b[1;33m.\u001b[0m\u001b[0mortho_group\u001b[0m\u001b[1;33m.\u001b[0m\u001b[0mrvs\u001b[0m\u001b[1;33m(\u001b[0m\u001b[1;36m50\u001b[0m\u001b[1;33m)\u001b[0m\u001b[1;33m\u001b[0m\u001b[1;33m\u001b[0m\u001b[0m\n\u001b[1;32m---> 20\u001b[1;33m         \u001b[0mS\u001b[0m \u001b[1;33m=\u001b[0m \u001b[0mnp\u001b[0m\u001b[1;33m.\u001b[0m\u001b[0mdiag\u001b[0m\u001b[1;33m(\u001b[0m\u001b[0mstats\u001b[0m\u001b[1;33m.\u001b[0m\u001b[0muniform\u001b[0m\u001b[1;33m.\u001b[0m\u001b[0mrvs\u001b[0m\u001b[1;33m(\u001b[0m\u001b[0msize\u001b[0m \u001b[1;33m=\u001b[0m \u001b[1;36m50\u001b[0m\u001b[1;33m)\u001b[0m\u001b[1;33m)\u001b[0m\u001b[1;33m\u001b[0m\u001b[1;33m\u001b[0m\u001b[0m\n\u001b[0m\u001b[0;32m     21\u001b[0m \u001b[1;33m\u001b[0m\u001b[0m\n\u001b[0;32m     22\u001b[0m         \u001b[0mA\u001b[0m \u001b[1;33m=\u001b[0m \u001b[0mU\u001b[0m\u001b[1;33m@\u001b[0m\u001b[0mS\u001b[0m\u001b[1;33m@\u001b[0m\u001b[0mV\u001b[0m\u001b[1;33m.\u001b[0m\u001b[0mT\u001b[0m\u001b[1;33m\u001b[0m\u001b[1;33m\u001b[0m\u001b[0m\n",
      "\u001b[1;31mNameError\u001b[0m: name 'np' is not defined"
     ]
    }
   ],
   "source": [
    "from scipy import stats\n",
    "\n",
    "def random_SVD(n_iter):\n",
    "    \"\"\"\n",
    "    Computes an SVD of a random matrix A.\n",
    "    \n",
    "    :param n_iter: number of times the SVD was calculated.\n",
    "    :returns: the list of norms of the U_2-U, V_2-V and \n",
    "              A - U_2S_2V_2.T. Where A = USV^T and U_2, S_2, V_2\n",
    "              was obtained by the SVD of A.\n",
    "    \"\"\"\n",
    "    u_norms = []\n",
    "    v_norms = []\n",
    "    solution_norms = []\n",
    "    u_2u = []\n",
    "    v_2v = []\n",
    "    for _ in range(n_iter):\n",
    "        U = stats.ortho_group.rvs(50)\n",
    "        V = stats.ortho_group.rvs(50)\n",
    "        S = np.diag(stats.uniform.rvs(size = 50))\n",
    "\n",
    "        A = U@S@V.T\n",
    "\n",
    "        U_2, S_2, V_2 = np.linalg.svd(A)\n",
    "        \n",
    "        u_2u.append(U_2.T@U)\n",
    "        v_2v.append(V_2.T@V)\n",
    "        u_norm = np.linalg.norm(U_2 - U)\n",
    "        v_norm = np.linalg.norm(V_2 - V)\n",
    "        solution_norm = np.linalg.norm(A - U_2@S_2@V_2.T)\n",
    "        #print(\"|U-U_2|: \", u_norm, \"\\n|V-V_2|: \", v_norm, \"\\n|A-U_2S_2V_2.T|: \", solution_norm)\n",
    "        u_norms.append(u_norm)\n",
    "        v_norms.append(v_norm)\n",
    "        solution_norms.append(solution_norm)\n",
    "    return u_norms, v_norms, solution_norms, u_2_u, v_2_v\n",
    "\n",
    "u_norms, v_norms, sol_norms, u_2u, v_2v = random_SVD(5)"
   ]
  },
  {
   "cell_type": "code",
   "execution_count": 61,
   "metadata": {},
   "outputs": [
    {
     "data": {
      "text/plain": [
       "<matplotlib.legend.Legend at 0x1b2cf524e10>"
      ]
     },
     "execution_count": 61,
     "metadata": {},
     "output_type": "execute_result"
    },
    {
     "data": {
      "image/png": "[encoded data removed]",
      "text/plain": [
       "<Figure size 432x288 with 1 Axes>"
      ]
     },
     "metadata": {
      "needs_background": "light"
     },
     "output_type": "display_data"
    }
   ],
   "source": [
    "plt.plot(u_norms, label = r'$\\|U_2 - U\\|$')\n",
    "plt.plot(v_norms, label = r'$\\|V_2 - V\\|$')\n",
    "plt.plot(sol_norms, label = r'$\\|A - U_2S_2V_2^{*}\\|$')\n",
    "plt.legend()"
   ]
  },
  {
   "cell_type": "markdown",
   "metadata": {},
   "source": [
    "# Chapter 17"
   ]
  },
  {
   "cell_type": "markdown",
   "metadata": {},
   "source": [
    "### Exercise 2"
   ]
  },
  {
   "cell_type": "markdown",
   "metadata": {},
   "source": [
    "The fact that the backward substitution is stable means that the problem $f: R \\to x = R^{-1}b$ is stable. Hence, by the therorem $15.1$ we have $\\frac{\\|\\hat{f(R)} - f(R)\\|}{\\|f(R)\\|} = \\frac{\\|\\hat{x} - x\\|}{\\|x\\|} = O(k(R)\\epsilon_{machine})$."
   ]
  },
  {
   "cell_type": "markdown",
   "metadata": {},
   "source": [
    "### Exercise 3"
   ]
  },
  {
   "cell_type": "markdown",
   "metadata": {},
   "source": [
    "Since $L$ is a strict lower traingular matrix we can write $L = I + N$ where the diagonal entries of $N$ are all $0$. $N$ is a nilpotent matrix and for a fixed $m$ we have that $N^{m} = 0$. Moreover, the inverse of $L = (I+N)$ is $M = (I - N + N^2 - N^3 + ... +(-1)^{m-1}N^{m-1})$ and the $m_{ij}$ is dependent on the $l_{ij}$ and on its powers.  \n",
    "$u_j = u_j + (-1)^il_{k+j-1,k}^i$ for $i \\in [1, m-1]$.  "
   ]
  },
  {
   "cell_type": "markdown",
   "metadata": {},
   "source": [
    "## Chapter 20: Gaussian Elimination"
   ]
  },
  {
   "cell_type": "markdown",
   "metadata": {},
   "source": [
    "### Ex. 1"
   ]
  },
  {
   "cell_type": "markdown",
   "metadata": {},
   "source": [
    "The if direction: Let $A = LU$, then $det(A) = det(LU) = det(L)det(U) \\not = 0$ since the $A$ is a non-singular matrix. Suppose, there is some upper-left $k \\times k$ block $A'$ of $A$ such that it is singular. Then according to the given hint the Gaussian elimination leave the deteminant unchanged, therefore the determinant of $A'$ will stay unchanged and will be equal to $0$. In other words, $det(A') = det(L')det(U') = 0$. Moreover, since the $det(L)$ as well as $det(U)$ is a product of the diagonal entries then at least on of the elements on the diagonal of $L$ or $U$ should be equal to $0$, which is a contradiction since we knew that $det(A) \\not= 0$.\n",
    "\n",
    "The only if direction: Let every upper left block of $A$ be non-singular. Then apply induction on $k$.\n",
    "Base case: $k = 1$ then the statement holds trivially.  \n",
    "Inductive step: Suppose that every matrix of dimension $n-1 \\times n-1$ has an $LU$ decomposition. \n",
    "Let $A$ be an $n \\times n$ matrix. https://math.stackexchange.com/questions/2951461/lu-factorization-of-a-nonsingular-matrix-exists-if-and-only-if-all-leading-princ"
   ]
  },
  {
   "cell_type": "markdown",
   "metadata": {},
   "source": [
    "### Ex. 2"
   ]
  },
  {
   "cell_type": "markdown",
   "metadata": {},
   "source": [
    "$a_{ij} = \\sum_{k}l_{ik}u_{kj}$. Since for $A$ it is true that $a_{ij} = 0$ if $j - i > p$ (i.e. for example, the last non-zero element in the first row is $a_{1, p+1}$, then $u_{ij} = 0$ for $j-i > p$. By the same logic $l_{ij} = 0$ if $i-j > p$."
   ]
  },
  {
   "cell_type": "markdown",
   "metadata": {},
   "source": [
    "### Ex.3"
   ]
  },
  {
   "cell_type": "markdown",
   "metadata": {},
   "source": [
    "a) Just carry out the multiplication and we would get the desired matrix.\n",
    "\n",
    "b) After the gaussian elmination we should get $L^{-1}A = U$. The diagonal blocks of $L$ are $I$. Let $X$ be the lower left block. then $XA_{11} + A_{21} = 0$ to get an upper triangular matrix. Since $A$ satisfies the condition of the Ex. $1$, then $A_{11}$ is a non-singular matrix, therefoe $X = -A_{21}A^{-1}_{11}$"
   ]
  },
  {
   "cell_type": "markdown",
   "metadata": {},
   "source": [
    "### Ex.4"
   ]
  },
  {
   "cell_type": "markdown",
   "metadata": {},
   "source": [
    "U = A, L = I\n",
    "for k = 1 to m - 1:\n",
    "    A[k+1:, k] = A[k+1:, k]/A[k,k]\n",
    "    A[k+1:, k+1:] -= <A[k+1:, k], A[k, k+1:]\n",
    "    "
   ]
  },
  {
   "cell_type": "markdown",
   "metadata": {},
   "source": [
    "### Ex. 5"
   ]
  },
  {
   "cell_type": "markdown",
   "metadata": {},
   "source": [
    "b) $A = LU, DA = DLU$ so we rescale the diagonal entries of $L$ by the corresponding entries in the diagonal of the matrix $D$. Under the rescaling $Ax = b$ becomes $DAx = Db$, we rescale the equations rather then the unknowns.\n",
    "\n",
    "c) $A = LDU'$ where $D$ is the diagonal matrix that has on the diagonal the entries of the diagonal of the $U$ in the $LU$ decomposition. $U'$ is the same $U$ matrix except the diagonal entries will be equal to $0$."
   ]
  },
  {
   "cell_type": "markdown",
   "metadata": {},
   "source": [
    "## Chapter 20: Gaussian Elimination"
   ]
  },
  {
   "cell_type": "markdown",
   "metadata": {},
   "source": [
    "### Ex.1"
   ]
  },
  {
   "cell_type": "markdown",
   "metadata": {},
   "source": [
    "$det(A) = det(L)det(U) = 1 * 2^3 = 8$ by $20.5$, and by $21.3$ $det(A) = det(P^{-1}LU) = det(P^{-1})det(U) = -1*-8 = 8"
   ]
  },
  {
   "cell_type": "markdown",
   "metadata": {},
   "source": [
    "### Ex. 3"
   ]
  },
  {
   "cell_type": "markdown",
   "metadata": {},
   "source": [
    "a) If the matrix is singular then both the rows and the columns are linearly independent.\n",
    "\n",
    "b) Let $A = \\begin{bmatrix}\n",
    "            0 & 0 \\\\\n",
    "            0 & 1 \\\\\n",
    "            \\end{bmatrix}$"
   ]
  },
  {
   "cell_type": "markdown",
   "metadata": {},
   "source": [
    "### Ex. 4"
   ]
  },
  {
   "cell_type": "markdown",
   "metadata": {},
   "source": [
    "https://galton.uchicago.edu/~lekheng/courses/302/notes7.pdf"
   ]
  },
  {
   "cell_type": "markdown",
   "metadata": {},
   "source": [
    "### Ex. 5"
   ]
  },
  {
   "cell_type": "markdown",
   "metadata": {},
   "source": [
    "$\\begin{bmatrix}\n",
    "    a_{11} & a_{12} \\\\\n",
    "    a_{12} & a_{22}\\\\\n",
    "\\end{bmatrix}$\n",
    "\n",
    "$\\begin{bmatrix}\n",
    "    a_{12} & a_{22}\\\\\n",
    "    a_{11} & a_{12} \\\\\n",
    "\\end{bmatrix}$\n",
    "\n",
    "$\\begin{bmatrix}\n",
    "    a_{22} & a_{12}\\\\\n",
    "    a_{12} & a_{11} \\\\\n",
    "\\end{bmatrix}$\n",
    "\n",
    "In general if we swap the $i$ row with the $j$-th row then we should swap the $j$-th column with the $i$-th column too to preserve the symmetry while pivoting.\n",
    "\n",
    "In general: $PA = LU$, here: $PAP^{T} = LUP^{T}$"
   ]
  },
  {
   "cell_type": "markdown",
   "metadata": {},
   "source": [
    "$A = LU$, $A^{T} = U^{T}L^{T} = A = LU$"
   ]
  },
  {
   "cell_type": "markdown",
   "metadata": {},
   "source": [
    "### Ex. 6"
   ]
  },
  {
   "cell_type": "markdown",
   "metadata": {},
   "source": [
    "$|a_kk| > \\sum_{j \\not = k}|a_{jk}|$, so $|a_11| > \\sum_{j \\not = 1}|a_{j1}|$ and in particular $|a_11| > |a_{j1}|$ for all $j \\not = 1$. Therefore, we are not doing any row interchange in the first step of the algorithm and we can get \n",
    "$\\begin{bmatrix} \n",
    "    a_{11} & a_{12} & ... & a{1m} \\\\\n",
    "    0  & a_{22} - a_{21}*a_{12}/a_{11} ... & a_{2m} - a_{21}*a_{1n}/a_{11} \\\\\n",
    "    ... \\\\\n",
    "    0  & a_{m2} - a_{m1}/a_{11}*a_{12} ... & a_{m2} - a_{m1}/a_{11}*a_{1m} \\\\\n",
    "\\end{bmatrix}$\n",
    "\n",
    "Then we must show that $|a_{kk} - a_{k1}/a_{11}*a_{1k}| \\ge |a_{kk}| - |a_{k1}/a_{11}*a_{1k}| > \\sum_{j\\not=k} |a_{jk}| - |a_{k1}/a_{11}*a_{1k}|$, then $|a_{kk} - a_{k1}/a_{11}*a_{1k}|$ is the biggest element in a new column and we can apply the gaussian elmination withouth row interchanges."
   ]
  },
  {
   "cell_type": "markdown",
   "metadata": {},
   "source": [
    "### Ex. 7"
   ]
  },
  {
   "cell_type": "markdown",
   "metadata": {},
   "source": [
    "Basically, it is already explained in the text."
   ]
  },
  {
   "cell_type": "markdown",
   "metadata": {},
   "source": [
    "## Lecture 22. Stability of Gaussian Elimination "
   ]
  },
  {
   "cell_type": "markdown",
   "metadata": {},
   "source": [
    "### Ex.1"
   ]
  },
  {
   "cell_type": "markdown",
   "metadata": {},
   "source": [
    "$\\rho = \\frac{max_{ij}|u_{ij}|}{max_{ij}|a_{ij}|}$\n",
    "$|a^{1}_{ij}| < |a^{0}_{ij}| + |a^0_{1j}| \\le 2max_{ij}|a^{0}_{ij}|$\n",
    "\n",
    "$|a^{2}_{ij}| < |a^{1}_{ij}| + |a^{1}_{2j}| \\le 2max_{ij}|a^{1}_{ij}|=2*2max_{ij}|a^{0}_{ij}|$\n",
    "\n",
    "$|a^{3}_{ij}| < |a^{2}_{ij}| + |a^{2}_{3j}| \\le 2max_{ij}|a^{2}_{ij}| = 2*4max_{ij}|a^{0}_{ij}|$\n",
    "\n",
    "continuing in this fashin we will do $m-1$ steps to get $U$ (since $dim(A) = m \\times m$). Then, $|u_{ij}| = |a^{m-1}_{ij}| < |a^{m-2}_{ij}| + |a^{m-2}_{m-1j}| \\le 2*\\max|a^{m-2}_{ij}| \\le 2*2\\max|a^{m-3}_{ij}| ... \\le 2^{m-1}\\max|a_{ij}|$"
   ]
  },
  {
   "cell_type": "markdown",
   "metadata": {},
   "source": [
    "### Ex.4"
   ]
  },
  {
   "cell_type": "markdown",
   "metadata": {},
   "source": [
    "a) The last column of $Q$ is orthogonal to the other columns by construction. The last row of $L^{-1}$ is orthogonal to the all columns other than the last column of $A$ by construction."
   ]
  },
  {
   "cell_type": "markdown",
   "metadata": {},
   "source": [
    "$A = QR, A* = (QR)* = R*Q*, A*A = R*Q*QR = R*R = U*U$, so $R = U$."
   ]
  },
  {
   "cell_type": "markdown",
   "metadata": {},
   "source": [
    "We should show that the algorithm is backward stable\n",
    "\n",
    "$$ (A-\\sigma A)\\bar{x} = b, \\frac{|\\sigma A|}{|A|} < O(\\epsilon)  $$\n",
    "\n",
    "$(R* + \\sigma R*)\\bar{y} = b$ is backward stable $|\\sigma R| = O(\\epsilon)$\n",
    "\n",
    "\n",
    "\n",
    "$(R+\\sigma R)\\bar{x} = \\bar{y}$"
   ]
  },
  {
   "cell_type": "markdown",
   "metadata": {},
   "source": [
    "$x^Ty = x_1y_1 + x_2y_2 + ... x_ny_n$\n",
    "\n",
    "$\\bar{f}(x,y) = fl(x)^{\\bar{T}}fl(y) = x(1+\\epsilon_1)^{\\bar{T}}y(1+\\epsilon_2) = \n",
    "x_1(1+\\epsilon_1) \\otimes y_1(1+\\epsilon_2) \\oplus x_2(1+\\epsilon_1) \\otimes y_2(1+\\epsilon_2) \\oplus ... \\oplus x_n(1+\\epsilon_1) \\otimes y_n(1+\\epsilon_2) = \n",
    "fl(x_1) \\otimes fl(y_1) \\oplus ... \\oplus fl(x_n) \\otimes fl(y_n) = \n",
    "[x_1(1+\\epsilon_1) * y_1(1+\\epsilon_2)](1+\\epsilon_3) \\oplus ... \\oplus [x_n(1+\\epsilon_1) * y_n(1+\\epsilon_2)](1+\\epsilon_3) = \n",
    "x_1y_1(1+\\epsilon_4) \\oplus x_2y_2(1+\\epsilon_4) ... \\oplus x_ny_n(1+\\epsilon_4) = \n",
    "[x_1y_1(1+\\epsilon_4) + x_2y_2(1+\\epsilon_4)](1+\\epsilon_5) + ... + [x_{n-1}y_{n-1}(1+\\epsilon_4) + x_ny_n(1+\\epsilon_4)](1+\\epsilon_5)$\n",
    "\n",
    "$f(\\bar{x}, \\bar{y}) = x_1(1+\\epsilon_1)*y_1(1+\\epsilon_2) + ... + x(1+\\epsilon_1)*y(1+\\epsilon_2)$"
   ]
  }
 ],
 "metadata": {
  "kernelspec": {
   "display_name": "Python 3",
   "language": "python",
   "name": "python3"
  },
  "language_info": {
   "codemirror_mode": {
    "name": "ipython",
    "version": 3
   },
   "file_extension": ".py",
   "mimetype": "text/x-python",
   "name": "python",
   "nbconvert_exporter": "python",
   "pygments_lexer": "ipython3",
   "version": "3.7.1"
  }
 },
 "nbformat": 4,
 "nbformat_minor": 4
}
